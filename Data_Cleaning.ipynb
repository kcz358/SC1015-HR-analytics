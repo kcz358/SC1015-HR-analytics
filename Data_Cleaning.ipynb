{
 "cells": [
  {
   "cell_type": "markdown",
   "id": "121a4699",
   "metadata": {},
   "source": [
    "# SC1015 Mini-Project"
   ]
  },
  {
   "cell_type": "code",
   "execution_count": 1,
   "id": "5f6e3bbb",
   "metadata": {},
   "outputs": [],
   "source": [
    "#Import Essential Libraries \n",
    "import numpy as np\n",
    "import pandas as pd\n",
    "import matplotlib.pyplot as plt\n",
    "import seaborn as sns\n",
    "import missingno \n",
    "sns.set_style(\"dark\")"
   ]
  },
  {
   "cell_type": "markdown",
   "id": "61736a53",
   "metadata": {},
   "source": [
    "### Import the Dataset\n",
    "From Kaggle, the dataset is already split into **train** and **test** dataset. Therefore, we will import both of them separately. Furthermore, we will take a quick glance at the dateset by using the `head` function."
   ]
  },
  {
   "cell_type": "code",
   "execution_count": 5,
   "id": "f4919ca8",
   "metadata": {},
   "outputs": [
    {
     "data": {
      "text/html": [
       "<div>\n",
       "<style scoped>\n",
       "    .dataframe tbody tr th:only-of-type {\n",
       "        vertical-align: middle;\n",
       "    }\n",
       "\n",
       "    .dataframe tbody tr th {\n",
       "        vertical-align: top;\n",
       "    }\n",
       "\n",
       "    .dataframe thead th {\n",
       "        text-align: right;\n",
       "    }\n",
       "</style>\n",
       "<table border=\"1\" class=\"dataframe\">\n",
       "  <thead>\n",
       "    <tr style=\"text-align: right;\">\n",
       "      <th></th>\n",
       "      <th>enrollee_id</th>\n",
       "      <th>city</th>\n",
       "      <th>city_development_index</th>\n",
       "      <th>gender</th>\n",
       "      <th>relevent_experience</th>\n",
       "      <th>enrolled_university</th>\n",
       "      <th>education_level</th>\n",
       "      <th>major_discipline</th>\n",
       "      <th>experience</th>\n",
       "      <th>company_size</th>\n",
       "      <th>company_type</th>\n",
       "      <th>last_new_job</th>\n",
       "      <th>training_hours</th>\n",
       "      <th>target</th>\n",
       "    </tr>\n",
       "  </thead>\n",
       "  <tbody>\n",
       "    <tr>\n",
       "      <th>0</th>\n",
       "      <td>8949</td>\n",
       "      <td>city_103</td>\n",
       "      <td>0.920</td>\n",
       "      <td>Male</td>\n",
       "      <td>Has relevent experience</td>\n",
       "      <td>no_enrollment</td>\n",
       "      <td>Graduate</td>\n",
       "      <td>STEM</td>\n",
       "      <td>&gt;20</td>\n",
       "      <td>NaN</td>\n",
       "      <td>NaN</td>\n",
       "      <td>1</td>\n",
       "      <td>36</td>\n",
       "      <td>1.0</td>\n",
       "    </tr>\n",
       "    <tr>\n",
       "      <th>1</th>\n",
       "      <td>29725</td>\n",
       "      <td>city_40</td>\n",
       "      <td>0.776</td>\n",
       "      <td>Male</td>\n",
       "      <td>No relevent experience</td>\n",
       "      <td>no_enrollment</td>\n",
       "      <td>Graduate</td>\n",
       "      <td>STEM</td>\n",
       "      <td>15</td>\n",
       "      <td>50-99</td>\n",
       "      <td>Pvt Ltd</td>\n",
       "      <td>&gt;4</td>\n",
       "      <td>47</td>\n",
       "      <td>0.0</td>\n",
       "    </tr>\n",
       "    <tr>\n",
       "      <th>2</th>\n",
       "      <td>11561</td>\n",
       "      <td>city_21</td>\n",
       "      <td>0.624</td>\n",
       "      <td>NaN</td>\n",
       "      <td>No relevent experience</td>\n",
       "      <td>Full time course</td>\n",
       "      <td>Graduate</td>\n",
       "      <td>STEM</td>\n",
       "      <td>5</td>\n",
       "      <td>NaN</td>\n",
       "      <td>NaN</td>\n",
       "      <td>never</td>\n",
       "      <td>83</td>\n",
       "      <td>0.0</td>\n",
       "    </tr>\n",
       "    <tr>\n",
       "      <th>3</th>\n",
       "      <td>33241</td>\n",
       "      <td>city_115</td>\n",
       "      <td>0.789</td>\n",
       "      <td>NaN</td>\n",
       "      <td>No relevent experience</td>\n",
       "      <td>NaN</td>\n",
       "      <td>Graduate</td>\n",
       "      <td>Business Degree</td>\n",
       "      <td>&lt;1</td>\n",
       "      <td>NaN</td>\n",
       "      <td>Pvt Ltd</td>\n",
       "      <td>never</td>\n",
       "      <td>52</td>\n",
       "      <td>1.0</td>\n",
       "    </tr>\n",
       "    <tr>\n",
       "      <th>4</th>\n",
       "      <td>666</td>\n",
       "      <td>city_162</td>\n",
       "      <td>0.767</td>\n",
       "      <td>Male</td>\n",
       "      <td>Has relevent experience</td>\n",
       "      <td>no_enrollment</td>\n",
       "      <td>Masters</td>\n",
       "      <td>STEM</td>\n",
       "      <td>&gt;20</td>\n",
       "      <td>50-99</td>\n",
       "      <td>Funded Startup</td>\n",
       "      <td>4</td>\n",
       "      <td>8</td>\n",
       "      <td>0.0</td>\n",
       "    </tr>\n",
       "  </tbody>\n",
       "</table>\n",
       "</div>"
      ],
      "text/plain": [
       "   enrollee_id      city  city_development_index gender  \\\n",
       "0         8949  city_103                   0.920   Male   \n",
       "1        29725   city_40                   0.776   Male   \n",
       "2        11561   city_21                   0.624    NaN   \n",
       "3        33241  city_115                   0.789    NaN   \n",
       "4          666  city_162                   0.767   Male   \n",
       "\n",
       "       relevent_experience enrolled_university education_level  \\\n",
       "0  Has relevent experience       no_enrollment        Graduate   \n",
       "1   No relevent experience       no_enrollment        Graduate   \n",
       "2   No relevent experience    Full time course        Graduate   \n",
       "3   No relevent experience                 NaN        Graduate   \n",
       "4  Has relevent experience       no_enrollment         Masters   \n",
       "\n",
       "  major_discipline experience company_size    company_type last_new_job  \\\n",
       "0             STEM        >20          NaN             NaN            1   \n",
       "1             STEM         15        50-99         Pvt Ltd           >4   \n",
       "2             STEM          5          NaN             NaN        never   \n",
       "3  Business Degree         <1          NaN         Pvt Ltd        never   \n",
       "4             STEM        >20        50-99  Funded Startup            4   \n",
       "\n",
       "   training_hours  target  \n",
       "0              36     1.0  \n",
       "1              47     0.0  \n",
       "2              83     0.0  \n",
       "3              52     1.0  \n",
       "4               8     0.0  "
      ]
     },
     "execution_count": 5,
     "metadata": {},
     "output_type": "execute_result"
    }
   ],
   "source": [
    "#Import the train dataset\n",
    "train_df = pd.read_csv(\"aug_train.csv\")\n",
    "train_df.head()"
   ]
  },
  {
   "cell_type": "code",
   "execution_count": 6,
   "id": "afe883d3",
   "metadata": {},
   "outputs": [
    {
     "data": {
      "text/html": [
       "<div>\n",
       "<style scoped>\n",
       "    .dataframe tbody tr th:only-of-type {\n",
       "        vertical-align: middle;\n",
       "    }\n",
       "\n",
       "    .dataframe tbody tr th {\n",
       "        vertical-align: top;\n",
       "    }\n",
       "\n",
       "    .dataframe thead th {\n",
       "        text-align: right;\n",
       "    }\n",
       "</style>\n",
       "<table border=\"1\" class=\"dataframe\">\n",
       "  <thead>\n",
       "    <tr style=\"text-align: right;\">\n",
       "      <th></th>\n",
       "      <th>enrollee_id</th>\n",
       "      <th>city</th>\n",
       "      <th>city_development_index</th>\n",
       "      <th>gender</th>\n",
       "      <th>relevent_experience</th>\n",
       "      <th>enrolled_university</th>\n",
       "      <th>education_level</th>\n",
       "      <th>major_discipline</th>\n",
       "      <th>experience</th>\n",
       "      <th>company_size</th>\n",
       "      <th>company_type</th>\n",
       "      <th>last_new_job</th>\n",
       "      <th>training_hours</th>\n",
       "    </tr>\n",
       "  </thead>\n",
       "  <tbody>\n",
       "    <tr>\n",
       "      <th>0</th>\n",
       "      <td>32403</td>\n",
       "      <td>city_41</td>\n",
       "      <td>0.827</td>\n",
       "      <td>Male</td>\n",
       "      <td>Has relevent experience</td>\n",
       "      <td>Full time course</td>\n",
       "      <td>Graduate</td>\n",
       "      <td>STEM</td>\n",
       "      <td>9</td>\n",
       "      <td>&lt;10</td>\n",
       "      <td>NaN</td>\n",
       "      <td>1</td>\n",
       "      <td>21</td>\n",
       "    </tr>\n",
       "    <tr>\n",
       "      <th>1</th>\n",
       "      <td>9858</td>\n",
       "      <td>city_103</td>\n",
       "      <td>0.920</td>\n",
       "      <td>Female</td>\n",
       "      <td>Has relevent experience</td>\n",
       "      <td>no_enrollment</td>\n",
       "      <td>Graduate</td>\n",
       "      <td>STEM</td>\n",
       "      <td>5</td>\n",
       "      <td>NaN</td>\n",
       "      <td>Pvt Ltd</td>\n",
       "      <td>1</td>\n",
       "      <td>98</td>\n",
       "    </tr>\n",
       "    <tr>\n",
       "      <th>2</th>\n",
       "      <td>31806</td>\n",
       "      <td>city_21</td>\n",
       "      <td>0.624</td>\n",
       "      <td>Male</td>\n",
       "      <td>No relevent experience</td>\n",
       "      <td>no_enrollment</td>\n",
       "      <td>High School</td>\n",
       "      <td>NaN</td>\n",
       "      <td>&lt;1</td>\n",
       "      <td>NaN</td>\n",
       "      <td>Pvt Ltd</td>\n",
       "      <td>never</td>\n",
       "      <td>15</td>\n",
       "    </tr>\n",
       "    <tr>\n",
       "      <th>3</th>\n",
       "      <td>27385</td>\n",
       "      <td>city_13</td>\n",
       "      <td>0.827</td>\n",
       "      <td>Male</td>\n",
       "      <td>Has relevent experience</td>\n",
       "      <td>no_enrollment</td>\n",
       "      <td>Masters</td>\n",
       "      <td>STEM</td>\n",
       "      <td>11</td>\n",
       "      <td>10/49</td>\n",
       "      <td>Pvt Ltd</td>\n",
       "      <td>1</td>\n",
       "      <td>39</td>\n",
       "    </tr>\n",
       "    <tr>\n",
       "      <th>4</th>\n",
       "      <td>27724</td>\n",
       "      <td>city_103</td>\n",
       "      <td>0.920</td>\n",
       "      <td>Male</td>\n",
       "      <td>Has relevent experience</td>\n",
       "      <td>no_enrollment</td>\n",
       "      <td>Graduate</td>\n",
       "      <td>STEM</td>\n",
       "      <td>&gt;20</td>\n",
       "      <td>10000+</td>\n",
       "      <td>Pvt Ltd</td>\n",
       "      <td>&gt;4</td>\n",
       "      <td>72</td>\n",
       "    </tr>\n",
       "  </tbody>\n",
       "</table>\n",
       "</div>"
      ],
      "text/plain": [
       "   enrollee_id      city  city_development_index  gender  \\\n",
       "0        32403   city_41                   0.827    Male   \n",
       "1         9858  city_103                   0.920  Female   \n",
       "2        31806   city_21                   0.624    Male   \n",
       "3        27385   city_13                   0.827    Male   \n",
       "4        27724  city_103                   0.920    Male   \n",
       "\n",
       "       relevent_experience enrolled_university education_level  \\\n",
       "0  Has relevent experience    Full time course        Graduate   \n",
       "1  Has relevent experience       no_enrollment        Graduate   \n",
       "2   No relevent experience       no_enrollment     High School   \n",
       "3  Has relevent experience       no_enrollment         Masters   \n",
       "4  Has relevent experience       no_enrollment        Graduate   \n",
       "\n",
       "  major_discipline experience company_size company_type last_new_job  \\\n",
       "0             STEM          9          <10          NaN            1   \n",
       "1             STEM          5          NaN      Pvt Ltd            1   \n",
       "2              NaN         <1          NaN      Pvt Ltd        never   \n",
       "3             STEM         11        10/49      Pvt Ltd            1   \n",
       "4             STEM        >20       10000+      Pvt Ltd           >4   \n",
       "\n",
       "   training_hours  \n",
       "0              21  \n",
       "1              98  \n",
       "2              15  \n",
       "3              39  \n",
       "4              72  "
      ]
     },
     "execution_count": 6,
     "metadata": {},
     "output_type": "execute_result"
    }
   ],
   "source": [
    "test_df = pd.read_csv(\"aug_test.csv\")\n",
    "test_df.head()"
   ]
  },
  {
   "cell_type": "markdown",
   "id": "3206c95f",
   "metadata": {},
   "source": [
    "The features of the dataset are as following: <br>\n",
    "    `enrolle_id`             : Unique ID for enrollee <br>\n",
    "    `city`                   : City code <br>\n",
    "    `city_development_index` : Development index of the city (scaled) <br>\n",
    "    `gender`                 : Gender of enrollee <br>\n",
    "    `relevent_experience`    : Relevant experience of enrollee <br>\n",
    "    `enrolled_university`    : Type of University course currently enrolling if any <br>\n",
    "    `education_level`        : Education level of enrollee <br>\n",
    "    `major_discipline`       : Education major discipline of enrollee <br>\n",
    "    `experience`             : Total experience in years <br>\n",
    "    `company_size`           : No of employees in current employer's company <br>\n",
    "    `company_type`           : Type of current employer <br>\n",
    "    `last_new_job`           : Difference in years between previous job and current job <br>\n",
    "    `training_hours`         : Training hours completed <br>\n",
    "    `target`                 : 0 – Not looking for job change, 1 – Looking for a job change <br>"
   ]
  },
  {
   "cell_type": "markdown",
   "id": "84077df1",
   "metadata": {},
   "source": [
    "Next, we will investigate the dataset information by checking its `info` and `shape`"
   ]
  },
  {
   "cell_type": "code",
   "execution_count": 7,
   "id": "6fd5aa60",
   "metadata": {},
   "outputs": [
    {
     "name": "stdout",
     "output_type": "stream",
     "text": [
      "Shape\n",
      "train_df:  (19158, 14)\n",
      "test_df:  (2129, 13)\n"
     ]
    }
   ],
   "source": [
    "#Check the shape of each dataset\n",
    "print(\"Shape\")\n",
    "print(\"train_df: \", train_df.shape)\n",
    "print(\"test_df: \", test_df.shape)"
   ]
  },
  {
   "cell_type": "code",
   "execution_count": 8,
   "id": "01bd9d0b",
   "metadata": {},
   "outputs": [
    {
     "name": "stdout",
     "output_type": "stream",
     "text": [
      "train_df:\n",
      "<class 'pandas.core.frame.DataFrame'>\n",
      "RangeIndex: 19158 entries, 0 to 19157\n",
      "Data columns (total 14 columns):\n",
      " #   Column                  Non-Null Count  Dtype  \n",
      "---  ------                  --------------  -----  \n",
      " 0   enrollee_id             19158 non-null  int64  \n",
      " 1   city                    19158 non-null  object \n",
      " 2   city_development_index  19158 non-null  float64\n",
      " 3   gender                  14650 non-null  object \n",
      " 4   relevent_experience     19158 non-null  object \n",
      " 5   enrolled_university     18772 non-null  object \n",
      " 6   education_level         18698 non-null  object \n",
      " 7   major_discipline        16345 non-null  object \n",
      " 8   experience              19093 non-null  object \n",
      " 9   company_size            13220 non-null  object \n",
      " 10  company_type            13018 non-null  object \n",
      " 11  last_new_job            18735 non-null  object \n",
      " 12  training_hours          19158 non-null  int64  \n",
      " 13  target                  19158 non-null  float64\n",
      "dtypes: float64(2), int64(2), object(10)\n",
      "memory usage: 2.0+ MB\n",
      "\n",
      "test_df:\n",
      "<class 'pandas.core.frame.DataFrame'>\n",
      "RangeIndex: 2129 entries, 0 to 2128\n",
      "Data columns (total 13 columns):\n",
      " #   Column                  Non-Null Count  Dtype  \n",
      "---  ------                  --------------  -----  \n",
      " 0   enrollee_id             2129 non-null   int64  \n",
      " 1   city                    2129 non-null   object \n",
      " 2   city_development_index  2129 non-null   float64\n",
      " 3   gender                  1621 non-null   object \n",
      " 4   relevent_experience     2129 non-null   object \n",
      " 5   enrolled_university     2098 non-null   object \n",
      " 6   education_level         2077 non-null   object \n",
      " 7   major_discipline        1817 non-null   object \n",
      " 8   experience              2124 non-null   object \n",
      " 9   company_size            1507 non-null   object \n",
      " 10  company_type            1495 non-null   object \n",
      " 11  last_new_job            2089 non-null   object \n",
      " 12  training_hours          2129 non-null   int64  \n",
      "dtypes: float64(1), int64(2), object(10)\n",
      "memory usage: 216.4+ KB\n"
     ]
    }
   ],
   "source": [
    "#Check the info of each dataset\n",
    "print(\"train_df:\")\n",
    "train_df.info()\n",
    "print()\n",
    "print(\"test_df:\")\n",
    "test_df.info()"
   ]
  },
  {
   "cell_type": "markdown",
   "id": "7d65d6bd",
   "metadata": {},
   "source": [
    "We notice that the size of **test** dataset is approximately 10% of **train** dataset. Moreover, both datasets have some missing values in some of the variables and the **test** dataset does not provide the `target` column."
   ]
  },
  {
   "cell_type": "markdown",
   "id": "32da83d8",
   "metadata": {},
   "source": [
    "# Data Cleaning"
   ]
  },
  {
   "cell_type": "markdown",
   "id": "f789dbd7",
   "metadata": {},
   "source": [
    "## Enrollee Id and City checking and cleaning"
   ]
  },
  {
   "cell_type": "markdown",
   "id": "85e6532b",
   "metadata": {},
   "source": [
    "Firstly, we need to drop some irrelevant columns in the datasets."
   ]
  },
  {
   "cell_type": "code",
   "execution_count": 9,
   "id": "10d3825e",
   "metadata": {},
   "outputs": [
    {
     "name": "stdout",
     "output_type": "stream",
     "text": [
      "19158 2129\n",
      "(19158, 14) (2129, 13)\n"
     ]
    }
   ],
   "source": [
    "#Compare the number of enrollee_id and shape\n",
    "print(train_df.enrollee_id.nunique(), test_df.enrollee_id.nunique())\n",
    "print(train_df.shape, test_df.shape)"
   ]
  },
  {
   "cell_type": "markdown",
   "id": "dc329eb9",
   "metadata": {},
   "source": [
    "`enrollee_id` is unique for every datapoint and we don't need this as a feature so we can just drop it."
   ]
  },
  {
   "cell_type": "code",
   "execution_count": 10,
   "id": "837a4e71",
   "metadata": {},
   "outputs": [],
   "source": [
    "#Drop enrollee_id\n",
    "train_df.drop(columns='enrollee_id', inplace = True)\n",
    "test_df.drop(columns = 'enrollee_id', inplace = True)"
   ]
  },
  {
   "cell_type": "code",
   "execution_count": 11,
   "id": "636a48d1",
   "metadata": {},
   "outputs": [
    {
     "name": "stdout",
     "output_type": "stream",
     "text": [
      "Unique values\n",
      "train_df: 123\n",
      "test_df: 108\n"
     ]
    }
   ],
   "source": [
    "#Count the unique value for city\n",
    "print(\"Unique values\")\n",
    "print(\"train_df:\", train_df['city'].nunique())\n",
    "print(\"test_df:\", test_df['city'].nunique())"
   ]
  },
  {
   "cell_type": "code",
   "execution_count": 12,
   "id": "d2ffa5e2",
   "metadata": {},
   "outputs": [
    {
     "data": {
      "text/plain": [
       "{'city_103': 0.92,\n",
       " 'city_40': 0.7759999999999999,\n",
       " 'city_21': 0.624,\n",
       " 'city_115': 0.789,\n",
       " 'city_162': 0.767,\n",
       " 'city_176': 0.764,\n",
       " 'city_160': 0.92,\n",
       " 'city_46': 0.762,\n",
       " 'city_61': 0.913,\n",
       " 'city_114': 0.926,\n",
       " 'city_13': 0.8270000000000001,\n",
       " 'city_159': 0.843,\n",
       " 'city_102': 0.804,\n",
       " 'city_67': 0.855,\n",
       " 'city_100': 0.887,\n",
       " 'city_16': 0.91,\n",
       " 'city_71': 0.884,\n",
       " 'city_104': 0.924,\n",
       " 'city_64': 0.6659999999999999,\n",
       " 'city_101': 0.5579999999999999,\n",
       " 'city_83': 0.923,\n",
       " 'city_105': 0.794,\n",
       " 'city_73': 0.754,\n",
       " 'city_75': 0.939,\n",
       " 'city_41': 0.8270000000000001,\n",
       " 'city_11': 0.55,\n",
       " 'city_93': 0.865,\n",
       " 'city_90': 0.698,\n",
       " 'city_36': 0.893,\n",
       " 'city_20': 0.7959999999999999,\n",
       " 'city_57': 0.866,\n",
       " 'city_152': 0.698,\n",
       " 'city_19': 0.682,\n",
       " 'city_65': 0.802,\n",
       " 'city_74': 0.579,\n",
       " 'city_173': 0.878,\n",
       " 'city_136': 0.897,\n",
       " 'city_98': 0.949,\n",
       " 'city_97': 0.925,\n",
       " 'city_50': 0.8959999999999999,\n",
       " 'city_138': 0.836,\n",
       " 'city_82': 0.693,\n",
       " 'city_157': 0.769,\n",
       " 'city_89': 0.925,\n",
       " 'city_150': 0.698,\n",
       " 'city_70': 0.698,\n",
       " 'city_175': 0.7759999999999999,\n",
       " 'city_94': 0.698,\n",
       " 'city_28': 0.939,\n",
       " 'city_59': 0.775,\n",
       " 'city_165': 0.903,\n",
       " 'city_145': 0.555,\n",
       " 'city_142': 0.727,\n",
       " 'city_26': 0.698,\n",
       " 'city_12': 0.64,\n",
       " 'city_37': 0.794,\n",
       " 'city_43': 0.516,\n",
       " 'city_116': 0.743,\n",
       " 'city_23': 0.899,\n",
       " 'city_99': 0.915,\n",
       " 'city_149': 0.6890000000000001,\n",
       " 'city_10': 0.895,\n",
       " 'city_45': 0.89,\n",
       " 'city_80': 0.847,\n",
       " 'city_128': 0.527,\n",
       " 'city_158': 0.7659999999999999,\n",
       " 'city_123': 0.738,\n",
       " 'city_7': 0.647,\n",
       " 'city_72': 0.795,\n",
       " 'city_106': 0.698,\n",
       " 'city_143': 0.74,\n",
       " 'city_78': 0.579,\n",
       " 'city_109': 0.701,\n",
       " 'city_24': 0.698,\n",
       " 'city_134': 0.698,\n",
       " 'city_48': 0.493,\n",
       " 'city_144': 0.84,\n",
       " 'city_91': 0.691,\n",
       " 'city_146': 0.735,\n",
       " 'city_133': 0.742,\n",
       " 'city_126': 0.479,\n",
       " 'city_118': 0.722,\n",
       " 'city_9': 0.743,\n",
       " 'city_167': 0.921,\n",
       " 'city_27': 0.848,\n",
       " 'city_84': 0.698,\n",
       " 'city_54': 0.856,\n",
       " 'city_39': 0.898,\n",
       " 'city_79': 0.698,\n",
       " 'city_76': 0.698,\n",
       " 'city_77': 0.83,\n",
       " 'city_81': 0.73,\n",
       " 'city_131': 0.68,\n",
       " 'city_44': 0.725,\n",
       " 'city_117': 0.698,\n",
       " 'city_155': 0.556,\n",
       " 'city_33': 0.4479999999999999,\n",
       " 'city_141': 0.763,\n",
       " 'city_127': 0.745,\n",
       " 'city_62': 0.645,\n",
       " 'city_53': 0.74,\n",
       " 'city_25': 0.698,\n",
       " 'city_2': 0.7879999999999999,\n",
       " 'city_69': 0.856,\n",
       " 'city_120': 0.78,\n",
       " 'city_111': 0.698,\n",
       " 'city_30': 0.698,\n",
       " 'city_1': 0.847,\n",
       " 'city_140': 0.856,\n",
       " 'city_179': 0.512,\n",
       " 'city_55': 0.7390000000000001,\n",
       " 'city_14': 0.698,\n",
       " 'city_42': 0.563,\n",
       " 'city_107': 0.518,\n",
       " 'city_18': 0.8240000000000001,\n",
       " 'city_139': 0.487,\n",
       " 'city_180': 0.698,\n",
       " 'city_166': 0.649,\n",
       " 'city_121': 0.7809999999999999,\n",
       " 'city_129': 0.625,\n",
       " 'city_8': 0.698,\n",
       " 'city_31': 0.807,\n",
       " 'city_171': 0.664}"
      ]
     },
     "execution_count": 12,
     "metadata": {},
     "output_type": "execute_result"
    }
   ],
   "source": [
    "#Convert the city and city_development_index into a dictionary\n",
    "pd.Series(train_df.city_development_index.values, index=train_df.city).to_dict()"
   ]
  },
  {
   "cell_type": "markdown",
   "id": "fb781f7e",
   "metadata": {},
   "source": [
    "`city` has more than 100 unique values and it has a direct relationship with `city_development_index` because each `city` corresponds to one `city_development_index` only. Therefore, it is better for us to drop `city` because it is difficult to tackle with too many unique values and we can use `city_development_index` instead."
   ]
  },
  {
   "cell_type": "code",
   "execution_count": 13,
   "id": "e38bbd6a",
   "metadata": {},
   "outputs": [],
   "source": [
    "#Drop city\n",
    "train_df.drop(columns='city', inplace = True)\n",
    "test_df.drop(columns = 'city', inplace = True)"
   ]
  },
  {
   "cell_type": "markdown",
   "id": "80f8ad8b",
   "metadata": {},
   "source": [
    "Furthermore, before we do the data cleaning, let's try to visualise the propotions of missing values in each variable first."
   ]
  },
  {
   "cell_type": "code",
   "execution_count": 14,
   "id": "c035ec1f",
   "metadata": {},
   "outputs": [
    {
     "name": "stdout",
     "output_type": "stream",
     "text": [
      "Missing value percentages\n",
      "Train_df:\n",
      "city_development_index , Missing: 0 (0.0%)\n",
      "gender , Missing: 4508 (23.5%)\n",
      "relevent_experience , Missing: 0 (0.0%)\n",
      "enrolled_university , Missing: 386 (2.0%)\n",
      "education_level , Missing: 460 (2.4%)\n",
      "major_discipline , Missing: 2813 (14.7%)\n",
      "experience , Missing: 65 (0.3%)\n",
      "company_size , Missing: 5938 (31.0%)\n",
      "company_type , Missing: 6140 (32.0%)\n",
      "last_new_job , Missing: 423 (2.2%)\n",
      "training_hours , Missing: 0 (0.0%)\n",
      "target , Missing: 0 (0.0%)\n",
      "\n",
      "Test_df:\n",
      "city_development_index , Missing: 0 (0.0%)\n",
      "gender , Missing: 508 (23.9%)\n",
      "relevent_experience , Missing: 0 (0.0%)\n",
      "enrolled_university , Missing: 31 (1.5%)\n",
      "education_level , Missing: 52 (2.4%)\n",
      "major_discipline , Missing: 312 (14.7%)\n",
      "experience , Missing: 5 (0.2%)\n",
      "company_size , Missing: 622 (29.2%)\n",
      "company_type , Missing: 634 (29.8%)\n",
      "last_new_job , Missing: 40 (1.9%)\n",
      "training_hours , Missing: 0 (0.0%)\n"
     ]
    }
   ],
   "source": [
    "#finding the percentages of missing values\n",
    "print(\"Missing value percentages\")\n",
    "print(\"Train_df:\")\n",
    "for col in train_df.columns:\n",
    "    null_val = train_df[col].isnull().sum()\n",
    "    null_prec = (null_val * 100) / train_df.shape[0]\n",
    "    print('%s , Missing: %d (%.1f%%)' % (col, null_val, null_prec))\n",
    "print()\n",
    "print(\"Test_df:\")\n",
    "for col in test_df.columns:\n",
    "    null_val = test_df[col].isnull().sum()\n",
    "    null_prec = (null_val * 100) / test_df.shape[0]\n",
    "    print('%s , Missing: %d (%.1f%%)' % (col, null_val, null_prec))"
   ]
  },
  {
   "cell_type": "code",
   "execution_count": 15,
   "id": "de68ca6c",
   "metadata": {},
   "outputs": [
    {
     "data": {
      "image/png": "[encoded data removed]",
      "text/plain": [
       "<Figure size 1080x576 with 6 Axes>"
      ]
     },
     "metadata": {},
     "output_type": "display_data"
    }
   ],
   "source": [
    "#Plot barplot for missing value percentages of each variables\n",
    "f, ax = plt.subplots(nrows = 1, ncols = 2, figsize=(15,8))\n",
    "missingno.bar(train_df, color=\"cornflowerblue\", figsize=(10,5), fontsize=12, ax=ax[0]);\n",
    "missingno.bar(test_df, color=\"forestgreen\", figsize=(10,5), fontsize=12, ax=ax[1]);"
   ]
  },
  {
   "cell_type": "markdown",
   "id": "44fa8b5a",
   "metadata": {},
   "source": [
    "From the result, we can see that there are 4 variables `[enrolled_university, education_level, experience, last_new_job]` which missing values are less than 3%. Therefore, we can just directly drop these missing values because it will not affect much to the datasets. However, `[gender, major_discipline, company_size, company_type]` have a significant amount of missing values, thus we will use another method to deal with them."
   ]
  },
  {
   "cell_type": "code",
   "execution_count": 16,
   "id": "f0615cb5",
   "metadata": {},
   "outputs": [],
   "source": [
    "#Drop the missing values of enrolled_university, education_level, experience, and last_new_job\n",
    "list = ['enrolled_university', 'education_level', 'experience', 'last_new_job']\n",
    "for col in list:\n",
    "    train_df.drop(train_df.loc[train_df[col].isna()].index, inplace = True)\n",
    "    test_df.drop(test_df.loc[test_df[col].isna()].index, inplace = True)"
   ]
  },
  {
   "cell_type": "code",
   "execution_count": 17,
   "id": "64649b6d",
   "metadata": {},
   "outputs": [
    {
     "data": {
      "text/html": [
       "<div>\n",
       "<style scoped>\n",
       "    .dataframe tbody tr th:only-of-type {\n",
       "        vertical-align: middle;\n",
       "    }\n",
       "\n",
       "    .dataframe tbody tr th {\n",
       "        vertical-align: top;\n",
       "    }\n",
       "\n",
       "    .dataframe thead th {\n",
       "        text-align: right;\n",
       "    }\n",
       "</style>\n",
       "<table border=\"1\" class=\"dataframe\">\n",
       "  <thead>\n",
       "    <tr style=\"text-align: right;\">\n",
       "      <th></th>\n",
       "      <th>city_development_index</th>\n",
       "      <th>gender</th>\n",
       "      <th>relevent_experience</th>\n",
       "      <th>enrolled_university</th>\n",
       "      <th>education_level</th>\n",
       "      <th>major_discipline</th>\n",
       "      <th>experience</th>\n",
       "      <th>company_size</th>\n",
       "      <th>company_type</th>\n",
       "      <th>last_new_job</th>\n",
       "      <th>training_hours</th>\n",
       "      <th>target</th>\n",
       "    </tr>\n",
       "  </thead>\n",
       "  <tbody>\n",
       "    <tr>\n",
       "      <th>NA values contain in train</th>\n",
       "      <td>0.0</td>\n",
       "      <td>3863.0</td>\n",
       "      <td>0.0</td>\n",
       "      <td>0.0</td>\n",
       "      <td>0.0</td>\n",
       "      <td>2222.0</td>\n",
       "      <td>0.0</td>\n",
       "      <td>5310.0</td>\n",
       "      <td>5476.0</td>\n",
       "      <td>0.0</td>\n",
       "      <td>0.0</td>\n",
       "      <td>0.0</td>\n",
       "    </tr>\n",
       "    <tr>\n",
       "      <th>NA values contain in test</th>\n",
       "      <td>0.0</td>\n",
       "      <td>443.0</td>\n",
       "      <td>0.0</td>\n",
       "      <td>0.0</td>\n",
       "      <td>0.0</td>\n",
       "      <td>249.0</td>\n",
       "      <td>0.0</td>\n",
       "      <td>577.0</td>\n",
       "      <td>579.0</td>\n",
       "      <td>0.0</td>\n",
       "      <td>0.0</td>\n",
       "      <td>NaN</td>\n",
       "    </tr>\n",
       "  </tbody>\n",
       "</table>\n",
       "</div>"
      ],
      "text/plain": [
       "                            city_development_index  gender  \\\n",
       "NA values contain in train                     0.0  3863.0   \n",
       "NA values contain in test                      0.0   443.0   \n",
       "\n",
       "                            relevent_experience  enrolled_university  \\\n",
       "NA values contain in train                  0.0                  0.0   \n",
       "NA values contain in test                   0.0                  0.0   \n",
       "\n",
       "                            education_level  major_discipline  experience  \\\n",
       "NA values contain in train              0.0            2222.0         0.0   \n",
       "NA values contain in test               0.0             249.0         0.0   \n",
       "\n",
       "                            company_size  company_type  last_new_job  \\\n",
       "NA values contain in train        5310.0        5476.0           0.0   \n",
       "NA values contain in test          577.0         579.0           0.0   \n",
       "\n",
       "                            training_hours  target  \n",
       "NA values contain in train             0.0     0.0  \n",
       "NA values contain in test              0.0     NaN  "
      ]
     },
     "execution_count": 17,
     "metadata": {},
     "output_type": "execute_result"
    }
   ],
   "source": [
    "#Create a dataframe for showing the number of remaining missing values\n",
    "pd.DataFrame([train_df.isna().sum(), test_df.isna().sum()], [\"NA values contain in train\", \"NA values contain in test\"])"
   ]
  },
  {
   "cell_type": "markdown",
   "id": "4fd57e9b",
   "metadata": {},
   "source": [
    "After we have cleaned those 4 variables, we try to find the relationship between the variables of the missing values by using a heatmap."
   ]
  },
  {
   "cell_type": "code",
   "execution_count": 18,
   "id": "ced51233",
   "metadata": {},
   "outputs": [
    {
     "data": {
      "image/png": "[encoded data removed]",
      "text/plain": [
       "<Figure size 1080x576 with 2 Axes>"
      ]
     },
     "metadata": {},
     "output_type": "display_data"
    }
   ],
   "source": [
    "#Plot heatmap for showing nullity correlation between various variables in datasets \n",
    "f, ax = plt.subplots(nrows = 1, ncols = 2, figsize=(15, 8))\n",
    "missingno.heatmap(train_df, figsize=(10,5), fontsize=12, cmap=\"RdYlGn\", vmax=1, vmin=-1, cbar = False, ax = ax[0]);\n",
    "missingno.heatmap(test_df, figsize=(10,5), fontsize=12, cmap=\"RdYlGn\", vmax=1, vmin=-1, cbar = False, ax = ax[1]);"
   ]
  },
  {
   "cell_type": "markdown",
   "id": "e5b7fd2b",
   "metadata": {},
   "source": [
    "We notice that there is a high correlation value between `company_type` and `company_size`. This means that these two values will often come in pairs. This is understandable because people who are not employed do not have any records of `company_type` and `company_size`, thus these values are empty."
   ]
  },
  {
   "cell_type": "markdown",
   "id": "fe1a4555",
   "metadata": {},
   "source": [
    "## Company Type and Company Size checking and cleaning\n",
    "We take a look at the categories of both company type and company size by using `unique`."
   ]
  },
  {
   "cell_type": "code",
   "execution_count": 19,
   "id": "9b0e4dce",
   "metadata": {},
   "outputs": [
    {
     "data": {
      "text/plain": [
       "array([nan, '50-99', '<10', '10000+', '5000-9999', '1000-4999', '10/49',\n",
       "       '100-500', '500-999'], dtype=object)"
      ]
     },
     "execution_count": 19,
     "metadata": {},
     "output_type": "execute_result"
    }
   ],
   "source": [
    "#Check the categories of company_size\n",
    "train_df.company_size.unique()"
   ]
  },
  {
   "cell_type": "code",
   "execution_count": 20,
   "id": "ffe93036",
   "metadata": {},
   "outputs": [
    {
     "data": {
      "text/plain": [
       "array(['<10', nan, '10/49', '10000+', '100-500', '50-99', '1000-4999',\n",
       "       '500-999', '5000-9999'], dtype=object)"
      ]
     },
     "execution_count": 20,
     "metadata": {},
     "output_type": "execute_result"
    }
   ],
   "source": [
    "test_df.company_size.unique()"
   ]
  },
  {
   "cell_type": "markdown",
   "id": "78a63a7f",
   "metadata": {},
   "source": [
    "It seems that there is a misinterpretation in **train** `company_size`, which **10-49** becomes **Oct-49**. In **test** `company_size`, we unify the labels by changing **10/49** to **10-49**. Furthermore, we also change the label of **100-500** to **100-499** such that all the labels do not overlap each other. "
   ]
  },
  {
   "cell_type": "code",
   "execution_count": 21,
   "id": "34668644",
   "metadata": {},
   "outputs": [],
   "source": [
    "#Rename the labels\n",
    "train_df.company_size.replace('Oct-49', '10-49', inplace=True)\n",
    "train_df.company_size.replace('100-500', '100-499', inplace=True)\n",
    "test_df.company_size.replace('10/49', '10-49', inplace=True)\n",
    "test_df.company_size.replace('100-500', '100-499', inplace=True)"
   ]
  },
  {
   "cell_type": "code",
   "execution_count": 22,
   "id": "696ceb7f",
   "metadata": {
    "scrolled": true
   },
   "outputs": [
    {
     "data": {
      "text/plain": [
       "array([nan, 'Pvt Ltd', 'Funded Startup', 'Early Stage Startup', 'Other',\n",
       "       'Public Sector', 'NGO'], dtype=object)"
      ]
     },
     "execution_count": 22,
     "metadata": {},
     "output_type": "execute_result"
    }
   ],
   "source": [
    "#Check the categories of company_type\n",
    "train_df.company_type.unique()"
   ]
  },
  {
   "cell_type": "code",
   "execution_count": 23,
   "id": "f4fb5c43",
   "metadata": {
    "scrolled": true
   },
   "outputs": [
    {
     "data": {
      "text/plain": [
       "array([nan, 'Pvt Ltd', 'Funded Startup', 'Other', 'Public Sector',\n",
       "       'Early Stage Startup', 'NGO'], dtype=object)"
      ]
     },
     "execution_count": 23,
     "metadata": {},
     "output_type": "execute_result"
    }
   ],
   "source": [
    "test_df.company_type.unique()"
   ]
  },
  {
   "cell_type": "code",
   "execution_count": 24,
   "id": "234273bb",
   "metadata": {},
   "outputs": [
    {
     "data": {
      "image/png": "[encoded data removed]",
      "text/plain": [
       "<Figure size 1440x1080 with 2 Axes>"
      ]
     },
     "metadata": {},
     "output_type": "display_data"
    }
   ],
   "source": [
    "#Set the order of company_type and company_size\n",
    "company_type_order = ['Pvt Ltd', 'Early Stage Startup', 'Funded Startup', 'Public Sector', 'NGO', 'Other']\n",
    "company_size_order = ['<10', '10-49', '50-99', '100-499', '500-999', '1000-4999', '5000-9999', '10000+']\n",
    "\n",
    "#Plot countplot of company_type and company_size \n",
    "f, ax = plt.subplots(nrows = 2,ncols = 1, figsize = (20,15))\n",
    "sns.countplot(x = 'company_type', hue = 'company_size', order = company_type_order, hue_order = company_size_order, data = train_df, ax = ax[0])\n",
    "ax[0].set_title(\"Train company type and size distribution\", fontsize = 20)\n",
    "ax[0].legend(loc='upper right', title='Company Size')\n",
    "ax[0].set_xlabel(\"Company Size\", fontsize = 15)\n",
    "ax[0].set_ylabel(\"Frequency\", fontsize = 15)\n",
    "\n",
    "sns.countplot(x = 'company_type', hue = 'company_size', order = company_type_order, hue_order = company_size_order, data = test_df, ax = ax[1])\n",
    "ax[1].set_title(\"Test company type and size distribution\", fontsize = 20)\n",
    "ax[1].legend(loc='upper right', title='Company Size')\n",
    "ax[1].set_xlabel(\"Company Size\", fontsize = 15)\n",
    "ax[1].set_ylabel(\"Frequency\", fontsize = 15)\n",
    "\n",
    "f.subplots_adjust(hspace=0.2)"
   ]
  },
  {
   "cell_type": "markdown",
   "id": "2d04bcd3",
   "metadata": {},
   "source": [
    "From the graph we can see that Usually `Early Stage Startup` type company will have less than 10 people so we fill it with **<10**"
   ]
  },
  {
   "cell_type": "code",
   "execution_count": 25,
   "id": "5e3747e2",
   "metadata": {},
   "outputs": [],
   "source": [
    "#Fill nan value with '<10' if company_type is 'Early Stage Startup'\n",
    "train_df.loc[(train_df.company_size.isna()) \n",
    "             & (train_df.company_type == \"Early Stage Startup\"), ['company_size']] = '<10'\n",
    "test_df.loc[(test_df.company_size.isna()) \n",
    "             & (test_df.company_type == \"Early Stage Startup\"), ['company_size']] = '<10'"
   ]
  },
  {
   "cell_type": "markdown",
   "id": "166695ef",
   "metadata": {},
   "source": [
    "Next, we will use `last_new_job` to help us to fill some missing values in `company_size` and `company_type`. "
   ]
  },
  {
   "cell_type": "code",
   "execution_count": 26,
   "id": "e4b3af36",
   "metadata": {},
   "outputs": [
    {
     "data": {
      "text/plain": [
       "array(['1', '>4', 'never', '4', '3', '2'], dtype=object)"
      ]
     },
     "execution_count": 26,
     "metadata": {},
     "output_type": "execute_result"
    }
   ],
   "source": [
    "#Check unique value in last_new_job\n",
    "train_df.last_new_job.unique()"
   ]
  },
  {
   "cell_type": "markdown",
   "id": "40638c36",
   "metadata": {},
   "source": [
    "If someone's `last_new_job` is **never** and he has **nan** values in both `company_type` and `company_size`, we can indicate his `company_type` and `company_size` as **No company**."
   ]
  },
  {
   "cell_type": "code",
   "execution_count": 27,
   "id": "6b5c479a",
   "metadata": {},
   "outputs": [
    {
     "name": "stdout",
     "output_type": "stream",
     "text": [
      "      Company Size  Company Type\n",
      "Before\n",
      "train:    5308 \t\t 5476\n",
      "test :    577 \t\t 579\n",
      "\n",
      "After\n",
      "train:    3995 \t\t 4163\n",
      "test :    435 \t\t 437\n"
     ]
    }
   ],
   "source": [
    "#Fill nan values with 'never' and 'No company' if 'last_new_job' is 'never'\n",
    "print(\"      Company Size  Company Type\")\n",
    "print(\"Before\")\n",
    "print(\"train:   \", train_df.company_size.isna().sum(), \"\\t\\t\", train_df.company_type.isna().sum())\n",
    "print(\"test :   \", test_df.company_size.isna().sum(), \"\\t\\t\", test_df.company_type.isna().sum())\n",
    "\n",
    "train_df.loc[(train_df.company_size.isna()) & (train_df.company_type.isna()) \n",
    "             & (train_df.last_new_job == 'never'), [\"company_type\", \"company_size\"]] = \"No company\"\n",
    "\n",
    "test_df.loc[(test_df.company_size.isna()) & (test_df.company_type.isna()) \n",
    "             & (test_df.last_new_job == 'never'), [\"company_type\", \"company_size\"]] = \"No company\"\n",
    "print()\n",
    "print(\"After\")\n",
    "print(\"train:   \", train_df.company_size.isna().sum(),\"\\t\\t\", train_df.company_type.isna().sum())\n",
    "print(\"test :   \", test_df.company_size.isna().sum(), \"\\t\\t\", test_df.company_type.isna().sum())"
   ]
  },
  {
   "cell_type": "markdown",
   "id": "1676d093",
   "metadata": {},
   "source": [
    "By using this method, we manage to fill some missing values. However, the remaining missing values still contribute a big portion of the dataset, thus we cannot drop them easily. Instead, we will fill those missing values with **Missing**."
   ]
  },
  {
   "cell_type": "code",
   "execution_count": 28,
   "id": "9bb556cd",
   "metadata": {},
   "outputs": [
    {
     "name": "stdout",
     "output_type": "stream",
     "text": [
      "train:  0\n",
      "test :  0\n"
     ]
    }
   ],
   "source": [
    "#Fill nan values with 'Missing'\n",
    "train_df['company_size'].fillna(\"Missing\", inplace = True)\n",
    "train_df['company_type'].fillna(\"Missing\", inplace = True)\n",
    "test_df['company_size'].fillna(\"Missing\", inplace = True)\n",
    "test_df['company_type'].fillna(\"Missing\", inplace = True)\n",
    "\n",
    "#Check nan values in company_size and company_type\n",
    "print(\"train: \", train_df.company_size.isna().sum()+train_df.company_type.isna().sum())\n",
    "print(\"test : \", test_df.company_size.isna().sum()+test_df.company_type.isna().sum())"
   ]
  },
  {
   "cell_type": "markdown",
   "id": "cf3ae4d3",
   "metadata": {},
   "source": [
    "#### Gender data checking and cleaning\n",
    "In the next step, we will focus on `gender`."
   ]
  },
  {
   "cell_type": "code",
   "execution_count": 29,
   "id": "1ffc59e8",
   "metadata": {},
   "outputs": [
    {
     "data": {
      "text/plain": [
       "array(['Male', nan, 'Female', 'Other'], dtype=object)"
      ]
     },
     "execution_count": 29,
     "metadata": {},
     "output_type": "execute_result"
    }
   ],
   "source": [
    "#Check the categories of gender\n",
    "train_df.gender.unique()"
   ]
  },
  {
   "cell_type": "markdown",
   "id": "5e48f784",
   "metadata": {},
   "source": [
    "Since there is a lot of missing values in `gender`, we will not drop these data because we may lose some important information. Hence, we will fill the **nan** values of `gender` with **Unspecified**."
   ]
  },
  {
   "cell_type": "code",
   "execution_count": 30,
   "id": "ebe83861",
   "metadata": {},
   "outputs": [],
   "source": [
    "#Fill nan values with 'Unspecified'\n",
    "train_df['gender'].fillna('Unspecified', inplace = True)\n",
    "test_df['gender'].fillna('Unspecified', inplace = True)"
   ]
  },
  {
   "cell_type": "code",
   "execution_count": 31,
   "id": "33b12591",
   "metadata": {},
   "outputs": [
    {
     "data": {
      "text/plain": [
       "Text(0, 0.5, 'Frequency')"
      ]
     },
     "execution_count": 31,
     "metadata": {},
     "output_type": "execute_result"
    },
    {
     "data": {
      "image/png": "[encoded data removed]",
      "text/plain": [
       "<Figure size 1296x576 with 2 Axes>"
      ]
     },
     "metadata": {},
     "output_type": "display_data"
    }
   ],
   "source": [
    "gender_order = ['Male', 'Female', 'Other', 'Unspecified']\n",
    "\n",
    "f, ax = plt.subplots(nrows = 1, ncols = 2, figsize=(18,8))\n",
    "sns.countplot(x = 'gender', order = gender_order, data = train_df, ax = ax[0])\n",
    "ax[0].set_title(\"Train Gender Distribution\", fontsize = 20)\n",
    "ax[0].set_xlabel(\"Gender\", fontsize = 15)\n",
    "ax[0].set_ylabel(\"Frequency\", fontsize = 15)\n",
    "\n",
    "sns.countplot(x = 'gender', order = gender_order, data = test_df, ax = ax[1])\n",
    "ax[1].set_title(\"Test Gender Distribution\", fontsize = 20)\n",
    "ax[1].set_xlabel(\"Gender\", fontsize = 15)\n",
    "ax[1].set_ylabel(\"Frequency\", fontsize = 15)"
   ]
  },
  {
   "cell_type": "markdown",
   "id": "8bb61b40",
   "metadata": {},
   "source": [
    "## Major Discipline checking and cleaning\n",
    "After that, we will do data cleaning of `major_discipline` by comparing to `educational_level`."
   ]
  },
  {
   "cell_type": "code",
   "execution_count": 32,
   "id": "749d0d5a",
   "metadata": {},
   "outputs": [
    {
     "data": {
      "text/html": [
       "<div>\n",
       "<style scoped>\n",
       "    .dataframe tbody tr th:only-of-type {\n",
       "        vertical-align: middle;\n",
       "    }\n",
       "\n",
       "    .dataframe tbody tr th {\n",
       "        vertical-align: top;\n",
       "    }\n",
       "\n",
       "    .dataframe thead th {\n",
       "        text-align: right;\n",
       "    }\n",
       "</style>\n",
       "<table border=\"1\" class=\"dataframe\">\n",
       "  <thead>\n",
       "    <tr style=\"text-align: right;\">\n",
       "      <th></th>\n",
       "      <th>city_development_index</th>\n",
       "      <th>gender</th>\n",
       "      <th>relevent_experience</th>\n",
       "      <th>enrolled_university</th>\n",
       "      <th>education_level</th>\n",
       "      <th>major_discipline</th>\n",
       "      <th>experience</th>\n",
       "      <th>company_size</th>\n",
       "      <th>company_type</th>\n",
       "      <th>last_new_job</th>\n",
       "      <th>training_hours</th>\n",
       "      <th>target</th>\n",
       "    </tr>\n",
       "  </thead>\n",
       "  <tbody>\n",
       "    <tr>\n",
       "      <th>6</th>\n",
       "      <td>0.920</td>\n",
       "      <td>Male</td>\n",
       "      <td>Has relevent experience</td>\n",
       "      <td>no_enrollment</td>\n",
       "      <td>High School</td>\n",
       "      <td>NaN</td>\n",
       "      <td>5</td>\n",
       "      <td>50-99</td>\n",
       "      <td>Funded Startup</td>\n",
       "      <td>1</td>\n",
       "      <td>24</td>\n",
       "      <td>0.0</td>\n",
       "    </tr>\n",
       "    <tr>\n",
       "      <th>10</th>\n",
       "      <td>0.624</td>\n",
       "      <td>Unspecified</td>\n",
       "      <td>No relevent experience</td>\n",
       "      <td>Full time course</td>\n",
       "      <td>High School</td>\n",
       "      <td>NaN</td>\n",
       "      <td>2</td>\n",
       "      <td>No company</td>\n",
       "      <td>No company</td>\n",
       "      <td>never</td>\n",
       "      <td>32</td>\n",
       "      <td>1.0</td>\n",
       "    </tr>\n",
       "    <tr>\n",
       "      <th>14</th>\n",
       "      <td>0.624</td>\n",
       "      <td>Unspecified</td>\n",
       "      <td>No relevent experience</td>\n",
       "      <td>Full time course</td>\n",
       "      <td>High School</td>\n",
       "      <td>NaN</td>\n",
       "      <td>5</td>\n",
       "      <td>No company</td>\n",
       "      <td>No company</td>\n",
       "      <td>never</td>\n",
       "      <td>26</td>\n",
       "      <td>0.0</td>\n",
       "    </tr>\n",
       "    <tr>\n",
       "      <th>25</th>\n",
       "      <td>0.855</td>\n",
       "      <td>Unspecified</td>\n",
       "      <td>No relevent experience</td>\n",
       "      <td>no_enrollment</td>\n",
       "      <td>High School</td>\n",
       "      <td>NaN</td>\n",
       "      <td>4</td>\n",
       "      <td>No company</td>\n",
       "      <td>No company</td>\n",
       "      <td>never</td>\n",
       "      <td>22</td>\n",
       "      <td>0.0</td>\n",
       "    </tr>\n",
       "    <tr>\n",
       "      <th>28</th>\n",
       "      <td>0.887</td>\n",
       "      <td>Male</td>\n",
       "      <td>Has relevent experience</td>\n",
       "      <td>no_enrollment</td>\n",
       "      <td>High School</td>\n",
       "      <td>NaN</td>\n",
       "      <td>11</td>\n",
       "      <td>&lt;10</td>\n",
       "      <td>Pvt Ltd</td>\n",
       "      <td>1</td>\n",
       "      <td>8</td>\n",
       "      <td>1.0</td>\n",
       "    </tr>\n",
       "    <tr>\n",
       "      <th>...</th>\n",
       "      <td>...</td>\n",
       "      <td>...</td>\n",
       "      <td>...</td>\n",
       "      <td>...</td>\n",
       "      <td>...</td>\n",
       "      <td>...</td>\n",
       "      <td>...</td>\n",
       "      <td>...</td>\n",
       "      <td>...</td>\n",
       "      <td>...</td>\n",
       "      <td>...</td>\n",
       "      <td>...</td>\n",
       "    </tr>\n",
       "    <tr>\n",
       "      <th>19123</th>\n",
       "      <td>0.920</td>\n",
       "      <td>Male</td>\n",
       "      <td>Has relevent experience</td>\n",
       "      <td>no_enrollment</td>\n",
       "      <td>High School</td>\n",
       "      <td>NaN</td>\n",
       "      <td>2</td>\n",
       "      <td>&lt;10</td>\n",
       "      <td>Pvt Ltd</td>\n",
       "      <td>2</td>\n",
       "      <td>12</td>\n",
       "      <td>0.0</td>\n",
       "    </tr>\n",
       "    <tr>\n",
       "      <th>19134</th>\n",
       "      <td>0.920</td>\n",
       "      <td>Male</td>\n",
       "      <td>Has relevent experience</td>\n",
       "      <td>Part time course</td>\n",
       "      <td>High School</td>\n",
       "      <td>NaN</td>\n",
       "      <td>12</td>\n",
       "      <td>500-999</td>\n",
       "      <td>Pvt Ltd</td>\n",
       "      <td>&gt;4</td>\n",
       "      <td>13</td>\n",
       "      <td>0.0</td>\n",
       "    </tr>\n",
       "    <tr>\n",
       "      <th>19140</th>\n",
       "      <td>0.920</td>\n",
       "      <td>Unspecified</td>\n",
       "      <td>No relevent experience</td>\n",
       "      <td>no_enrollment</td>\n",
       "      <td>Primary School</td>\n",
       "      <td>NaN</td>\n",
       "      <td>2</td>\n",
       "      <td>No company</td>\n",
       "      <td>No company</td>\n",
       "      <td>never</td>\n",
       "      <td>15</td>\n",
       "      <td>0.0</td>\n",
       "    </tr>\n",
       "    <tr>\n",
       "      <th>19156</th>\n",
       "      <td>0.802</td>\n",
       "      <td>Male</td>\n",
       "      <td>Has relevent experience</td>\n",
       "      <td>no_enrollment</td>\n",
       "      <td>High School</td>\n",
       "      <td>NaN</td>\n",
       "      <td>&lt;1</td>\n",
       "      <td>500-999</td>\n",
       "      <td>Pvt Ltd</td>\n",
       "      <td>2</td>\n",
       "      <td>97</td>\n",
       "      <td>0.0</td>\n",
       "    </tr>\n",
       "    <tr>\n",
       "      <th>19157</th>\n",
       "      <td>0.855</td>\n",
       "      <td>Unspecified</td>\n",
       "      <td>No relevent experience</td>\n",
       "      <td>no_enrollment</td>\n",
       "      <td>Primary School</td>\n",
       "      <td>NaN</td>\n",
       "      <td>2</td>\n",
       "      <td>Missing</td>\n",
       "      <td>Missing</td>\n",
       "      <td>1</td>\n",
       "      <td>127</td>\n",
       "      <td>0.0</td>\n",
       "    </tr>\n",
       "  </tbody>\n",
       "</table>\n",
       "<p>2199 rows × 12 columns</p>\n",
       "</div>"
      ],
      "text/plain": [
       "       city_development_index       gender      relevent_experience  \\\n",
       "6                       0.920         Male  Has relevent experience   \n",
       "10                      0.624  Unspecified   No relevent experience   \n",
       "14                      0.624  Unspecified   No relevent experience   \n",
       "25                      0.855  Unspecified   No relevent experience   \n",
       "28                      0.887         Male  Has relevent experience   \n",
       "...                       ...          ...                      ...   \n",
       "19123                   0.920         Male  Has relevent experience   \n",
       "19134                   0.920         Male  Has relevent experience   \n",
       "19140                   0.920  Unspecified   No relevent experience   \n",
       "19156                   0.802         Male  Has relevent experience   \n",
       "19157                   0.855  Unspecified   No relevent experience   \n",
       "\n",
       "      enrolled_university education_level major_discipline experience  \\\n",
       "6           no_enrollment     High School              NaN          5   \n",
       "10       Full time course     High School              NaN          2   \n",
       "14       Full time course     High School              NaN          5   \n",
       "25          no_enrollment     High School              NaN          4   \n",
       "28          no_enrollment     High School              NaN         11   \n",
       "...                   ...             ...              ...        ...   \n",
       "19123       no_enrollment     High School              NaN          2   \n",
       "19134    Part time course     High School              NaN         12   \n",
       "19140       no_enrollment  Primary School              NaN          2   \n",
       "19156       no_enrollment     High School              NaN         <1   \n",
       "19157       no_enrollment  Primary School              NaN          2   \n",
       "\n",
       "      company_size    company_type last_new_job  training_hours  target  \n",
       "6            50-99  Funded Startup            1              24     0.0  \n",
       "10      No company      No company        never              32     1.0  \n",
       "14      No company      No company        never              26     0.0  \n",
       "25      No company      No company        never              22     0.0  \n",
       "28             <10         Pvt Ltd            1               8     1.0  \n",
       "...            ...             ...          ...             ...     ...  \n",
       "19123          <10         Pvt Ltd            2              12     0.0  \n",
       "19134      500-999         Pvt Ltd           >4              13     0.0  \n",
       "19140   No company      No company        never              15     0.0  \n",
       "19156      500-999         Pvt Ltd            2              97     0.0  \n",
       "19157      Missing         Missing            1             127     0.0  \n",
       "\n",
       "[2199 rows x 12 columns]"
      ]
     },
     "execution_count": 32,
     "metadata": {},
     "output_type": "execute_result"
    }
   ],
   "source": [
    "#Checking the dataframe\n",
    "train_df.loc[(train_df.education_level == 'High School') | (train_df.education_level == 'Primary School')]"
   ]
  },
  {
   "cell_type": "code",
   "execution_count": 33,
   "id": "d9ac537f",
   "metadata": {},
   "outputs": [
    {
     "data": {
      "text/plain": [
       "array([nan], dtype=object)"
      ]
     },
     "execution_count": 33,
     "metadata": {},
     "output_type": "execute_result"
    }
   ],
   "source": [
    "#Check the unique value of major_discipline\n",
    "train_df.loc[(train_df.education_level == 'High School') \n",
    "             | (train_df.education_level == 'Primary School')].major_discipline.unique()"
   ]
  },
  {
   "cell_type": "markdown",
   "id": "6babd10b",
   "metadata": {},
   "source": [
    "From the result above, we can see that all the **nan** values in `major_discipline` has either **Primary School** or **High School** as its `educational_level`. Therefore, we can apply this rule to fill the missing values. "
   ]
  },
  {
   "cell_type": "code",
   "execution_count": 34,
   "id": "153ac528",
   "metadata": {},
   "outputs": [],
   "source": [
    "#Fill nan value with 'No Major'\n",
    "train_df.loc[(train_df.education_level == 'High School') \n",
    "             | (train_df.education_level == 'Primary School'), ['major_discipline']] = \"No Major\"\n",
    "\n",
    "test_df.loc[(test_df.education_level == 'High School') \n",
    "             | (test_df.education_level == 'Primary School'), ['major_discipline']] = \"No Major\""
   ]
  },
  {
   "cell_type": "code",
   "execution_count": 35,
   "id": "2b2aa0e4",
   "metadata": {},
   "outputs": [
    {
     "name": "stdout",
     "output_type": "stream",
     "text": [
      "train:  23\n",
      "test :  1\n"
     ]
    }
   ],
   "source": [
    "#Check the remaining nan values in major_discipline\n",
    "print(\"train: \", train_df.major_discipline.isna().sum())\n",
    "print(\"test : \", test_df.major_discipline.isna().sum())"
   ]
  },
  {
   "cell_type": "markdown",
   "id": "f89403df",
   "metadata": {},
   "source": [
    "For the remaining missing values, we can drop them since they are considered anomalies and the amount is negligible."
   ]
  },
  {
   "cell_type": "code",
   "execution_count": 36,
   "id": "63657d67",
   "metadata": {},
   "outputs": [],
   "source": [
    "#Drop nan values\n",
    "train_df.drop(train_df.loc[train_df.major_discipline.isna()].index, inplace = True)\n",
    "test_df.drop(test_df.loc[test_df.major_discipline.isna()].index, inplace = True)"
   ]
  },
  {
   "cell_type": "code",
   "execution_count": 37,
   "id": "4f73b53f",
   "metadata": {},
   "outputs": [
    {
     "data": {
      "text/plain": [
       "<matplotlib.legend.Legend at 0x13994c340>"
      ]
     },
     "execution_count": 37,
     "metadata": {},
     "output_type": "execute_result"
    },
    {
     "data": {
      "image/png": "[encoded data removed]",
      "text/plain": [
       "<Figure size 1296x576 with 2 Axes>"
      ]
     },
     "metadata": {},
     "output_type": "display_data"
    }
   ],
   "source": [
    "#Set the order of educational_level and major_discipline\n",
    "major_order = ['No Major', 'STEM', 'Arts', 'Humanities', 'Business Degree', 'Other']\n",
    "education_order = ['Primary School', 'High School', 'Graduate', 'Masters', 'Phd']\n",
    "\n",
    "#Plot countplot of educational_level and major_discipline\n",
    "f, ax = plt.subplots(nrows = 1,ncols = 2, figsize = (18,8))\n",
    "\n",
    "sns.countplot(x = 'education_level', order = education_order, hue = 'major_discipline', hue_order = major_order, data = train_df, ax = ax[0])\n",
    "ax[0].set_title(\"Train Major Discipline distribution of Education Level\", fontsize = 20)\n",
    "ax[0].set_xlabel(\"Educational Level\", fontsize = 15)\n",
    "ax[0].set_ylabel(\"Frequency\", fontsize = 15)\n",
    "ax[0].legend(title = \"Major Discipline\")\n",
    "\n",
    "sns.countplot(x = 'education_level', order = education_order, hue = 'major_discipline', hue_order = major_order, data = test_df, ax = ax[1])\n",
    "ax[1].set_title(\"Test Major Discipline distribution of Education Level\", fontsize = 20)\n",
    "ax[1].set_xlabel(\"Educational Level\", fontsize = 15)\n",
    "ax[1].set_ylabel(\"Frequency\", fontsize = 15)\n",
    "ax[1].legend(title = \"Major Discipline\")"
   ]
  },
  {
   "cell_type": "markdown",
   "id": "ccd6ff39",
   "metadata": {},
   "source": [
    "Now, we will do a quick scan through of our cleaned dataaset to ensure that we do not leave out any nan values. We will also do some renaming such that the dataset is much concise."
   ]
  },
  {
   "cell_type": "code",
   "execution_count": 38,
   "id": "3658be28",
   "metadata": {},
   "outputs": [
    {
     "name": "stdout",
     "output_type": "stream",
     "text": [
      "train:\n",
      "<class 'pandas.core.frame.DataFrame'>\n",
      "Int64Index: 17991 entries, 0 to 19157\n",
      "Data columns (total 12 columns):\n",
      " #   Column                  Non-Null Count  Dtype  \n",
      "---  ------                  --------------  -----  \n",
      " 0   city_development_index  17991 non-null  float64\n",
      " 1   gender                  17991 non-null  object \n",
      " 2   relevent_experience     17991 non-null  object \n",
      " 3   enrolled_university     17991 non-null  object \n",
      " 4   education_level         17991 non-null  object \n",
      " 5   major_discipline        17991 non-null  object \n",
      " 6   experience              17991 non-null  object \n",
      " 7   company_size            17991 non-null  object \n",
      " 8   company_type            17991 non-null  object \n",
      " 9   last_new_job            17991 non-null  object \n",
      " 10  training_hours          17991 non-null  int64  \n",
      " 11  target                  17991 non-null  float64\n",
      "dtypes: float64(2), int64(1), object(9)\n",
      "memory usage: 2.3+ MB\n",
      "\n",
      "test:\n",
      "<class 'pandas.core.frame.DataFrame'>\n",
      "Int64Index: 2017 entries, 0 to 2128\n",
      "Data columns (total 11 columns):\n",
      " #   Column                  Non-Null Count  Dtype  \n",
      "---  ------                  --------------  -----  \n",
      " 0   city_development_index  2017 non-null   float64\n",
      " 1   gender                  2017 non-null   object \n",
      " 2   relevent_experience     2017 non-null   object \n",
      " 3   enrolled_university     2017 non-null   object \n",
      " 4   education_level         2017 non-null   object \n",
      " 5   major_discipline        2017 non-null   object \n",
      " 6   experience              2017 non-null   object \n",
      " 7   company_size            2017 non-null   object \n",
      " 8   company_type            2017 non-null   object \n",
      " 9   last_new_job            2017 non-null   object \n",
      " 10  training_hours          2017 non-null   int64  \n",
      "dtypes: float64(1), int64(1), object(9)\n",
      "memory usage: 253.6+ KB\n"
     ]
    }
   ],
   "source": [
    "#Check the info of datasets\n",
    "print(\"train:\")\n",
    "train_df.info()\n",
    "print()\n",
    "print(\"test:\")\n",
    "test_df.info()"
   ]
  },
  {
   "cell_type": "markdown",
   "id": "9e8e9be1",
   "metadata": {},
   "source": [
    "Last but not least, we decide to rename the `target` value to **Job-Seekers** and **Non Job-Seekers** so that it is more intuitive and readable when we are plotting graphs. "
   ]
  },
  {
   "cell_type": "code",
   "execution_count": 39,
   "id": "2994ae87",
   "metadata": {},
   "outputs": [
    {
     "data": {
      "text/plain": [
       "Non Job-Seekers    13578\n",
       "Job-Seekers         4413\n",
       "Name: target, dtype: int64"
      ]
     },
     "execution_count": 39,
     "metadata": {},
     "output_type": "execute_result"
    }
   ],
   "source": [
    "#Rename target labels to 'Job-Seekers' and 'Non Job-Seekers'\n",
    "train_df[\"target\"].replace(0.0, 'Non Job-Seekers', inplace=True)\n",
    "train_df[\"target\"].replace(1.0, 'Job-Seekers', inplace=True)\n",
    "train_df['target'].value_counts()"
   ]
  },
  {
   "cell_type": "markdown",
   "id": "e0d66ee6",
   "metadata": {},
   "source": [
    "Now, the dataset is much cleaner and we can move on to the next phase."
   ]
  },
  {
   "cell_type": "code",
   "execution_count": 41,
   "id": "2b29b781",
   "metadata": {},
   "outputs": [],
   "source": [
    "train_df.to_csv(\"train_clean.csv\")\n",
    "test_df.to_csv(\"test_clean.csv\")"
   ]
  },
  {
   "cell_type": "code",
   "execution_count": null,
   "id": "d55c5da1",
   "metadata": {},
   "outputs": [],
   "source": []
  }
 ],
 "metadata": {
  "kernelspec": {
   "display_name": "Python 3 (ipykernel)",
   "language": "python",
   "name": "python3"
  },
  "language_info": {
   "codemirror_mode": {
    "name": "ipython",
    "version": 3
   },
   "file_extension": ".py",
   "mimetype": "text/x-python",
   "name": "python",
   "nbconvert_exporter": "python",
   "pygments_lexer": "ipython3",
   "version": "3.8.12"
  }
 },
 "nbformat": 4,
 "nbformat_minor": 5
}
