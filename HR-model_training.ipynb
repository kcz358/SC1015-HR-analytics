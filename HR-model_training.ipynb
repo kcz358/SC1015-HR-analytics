{
 "cells": [
  {
   "cell_type": "code",
   "execution_count": 20,
   "id": "12199c5c",
   "metadata": {},
   "outputs": [],
   "source": [
    "import numpy as np\n",
    "import pandas as pd\n",
    "import matplotlib.pyplot as plt\n",
    "import seaborn as sns"
   ]
  },
  {
   "cell_type": "code",
   "execution_count": 36,
   "id": "773a2b01",
   "metadata": {},
   "outputs": [],
   "source": [
    "train_df = pd.read_csv(\"train_clean.csv\", index_col=[0])\n",
    "test_df = pd.read_csv(\"test_clean.csv\", index_col=[0])\n",
    "train_df['target'].replace({\"Job-Seekers\": 1,\n",
    "                            \"Non Job-Seekers\" : 0}, inplace = True)"
   ]
  },
  {
   "cell_type": "markdown",
   "id": "194da9fa",
   "metadata": {},
   "source": [
    "## Model Training\n",
    "\n",
    ">Before our model training part, we still needs encode the categorical variables in our dataset so that we can input it in our algorithm"
   ]
  },
  {
   "cell_type": "code",
   "execution_count": 37,
   "id": "e673cdd6",
   "metadata": {},
   "outputs": [],
   "source": [
    "df = train_df.copy()"
   ]
  },
  {
   "cell_type": "markdown",
   "id": "21966865",
   "metadata": {},
   "source": [
    "<b> One Hot encoding on Gender attribute </b>"
   ]
  },
  {
   "cell_type": "code",
   "execution_count": 38,
   "id": "016331f5",
   "metadata": {},
   "outputs": [],
   "source": [
    "df = df.join(pd.get_dummies(df['gender']))\n",
    "df.drop(columns = 'gender', inplace = True)\n",
    "\n",
    "test_df = test_df.join(pd.get_dummies(test_df['gender']))\n",
    "test_df.drop(columns = 'gender', inplace = True)"
   ]
  },
  {
   "cell_type": "markdown",
   "id": "fa31cf4f",
   "metadata": {},
   "source": [
    "<b> Encoding on experience </b>\n",
    "\n",
    "- Has relevant experience : 1\n",
    "- No relevent experience : 0"
   ]
  },
  {
   "cell_type": "code",
   "execution_count": 39,
   "id": "cb3dc989",
   "metadata": {},
   "outputs": [],
   "source": [
    "df['relevent_experience'].replace({\"Has relevent experience\": 1, \"No relevent experience\" : 0}, inplace = True)\n",
    "test_df['relevent_experience'].replace({\"Has relevent experience\": 1, \"No relevent experience\" : 0}, inplace = True)"
   ]
  },
  {
   "cell_type": "markdown",
   "id": "b13f59c1",
   "metadata": {},
   "source": [
    "<b> Encoding on enrolled university </b>\n",
    "\n",
    "- Full time course : 2\n",
    "- Part time course : 1\n",
    "- no_enrollment : 0"
   ]
  },
  {
   "cell_type": "code",
   "execution_count": 40,
   "id": "98742b74",
   "metadata": {},
   "outputs": [],
   "source": [
    "df['enrolled_university'].replace({\"no_enrollment\": 0,\n",
    "                                   \"Part time course\" : 1,\n",
    "                                   \"Full time course\" : 2}, inplace = True)\n",
    "\n",
    "test_df['enrolled_university'].replace({\"no_enrollment\": 0,\n",
    "                                   \"Part time course\" : 1,\n",
    "                                   \"Full time course\" : 2}, inplace = True)"
   ]
  },
  {
   "cell_type": "markdown",
   "id": "a8dacfa7",
   "metadata": {},
   "source": [
    "<b>Encoding education_level </b>\n",
    "\n",
    "- Phd : 4\n",
    "- Masters : 3\n",
    "- Graduate : 2\n",
    "- High School : 1\n",
    "- Primary School : 0"
   ]
  },
  {
   "cell_type": "code",
   "execution_count": 41,
   "id": "074a2646",
   "metadata": {},
   "outputs": [],
   "source": [
    "df['education_level'].replace({\"Phd\" : 4,\n",
    "                            \"Masters\" : 3,\n",
    "                            \"Graduate\" : 2,\n",
    "                            \"High School\" : 1,\n",
    "                            \"Primary School\" : 0}, inplace = True)\n",
    "\n",
    "test_df['education_level'].replace({\"Phd\" : 4,\n",
    "                            \"Masters\" : 3,\n",
    "                            \"Graduate\" : 2,\n",
    "                            \"High School\" : 1,\n",
    "                            \"Primary School\" : 0}, inplace = True)"
   ]
  },
  {
   "cell_type": "markdown",
   "id": "f1ed2819",
   "metadata": {},
   "source": [
    "<b> One Hot encoding on Major Discipline </b>"
   ]
  },
  {
   "cell_type": "code",
   "execution_count": 42,
   "id": "11d52f1d",
   "metadata": {},
   "outputs": [],
   "source": [
    "df = df.join(pd.get_dummies(df['major_discipline'], prefix = \"Major\"))\n",
    "df.drop(columns = 'major_discipline', inplace = True)\n",
    "\n",
    "test_df = test_df.join(pd.get_dummies(test_df['major_discipline'], prefix = \"Major\"))\n",
    "test_df.drop(columns = 'major_discipline', inplace = True)"
   ]
  },
  {
   "cell_type": "markdown",
   "id": "9bfd9d6d",
   "metadata": {},
   "source": [
    "<b>Encoding experience </b>\n",
    "\n",
    "> Differenct to the previous encoding work, we just need to encode the `<1` and `>20`. Here I use to replace `<1` with 0 and `>20` with 21 and then convert the datafram to int"
   ]
  },
  {
   "cell_type": "code",
   "execution_count": 43,
   "id": "ed15114f",
   "metadata": {},
   "outputs": [],
   "source": [
    "df['experience'].replace({\"<1\" : 0,\n",
    "                          \">20\" : 21}, inplace = True)\n",
    "\n",
    "df['experience'] = df['experience'].astype(\"int\")\n",
    "\n",
    "test_df['experience'].replace({\"<1\" : 0,\n",
    "                          \">20\" : 21}, inplace = True)\n",
    "\n",
    "test_df['experience'] = df['experience'].astype(\"int\")"
   ]
  },
  {
   "cell_type": "markdown",
   "id": "eab3795c",
   "metadata": {},
   "source": [
    "<b> Feature engineering on company size and company type </b>\n",
    "\n",
    "> Company Size and Company type we both adding a missing indicator. We will use label encoding on company size and one hot encoding on company type. We can see there are levels for company size but might not be true to have this level for company type"
   ]
  },
  {
   "cell_type": "code",
   "execution_count": 44,
   "id": "16cb6e65",
   "metadata": {},
   "outputs": [
    {
     "data": {
      "text/plain": [
       "array(['<10', 'Missing', '10-49', '10000+', '100-499', 'No company',\n",
       "       '1000-4999', '50-99', '500-999', '5000-9999'], dtype=object)"
      ]
     },
     "execution_count": 44,
     "metadata": {},
     "output_type": "execute_result"
    }
   ],
   "source": [
    "df['company_size'].replace({\"10/49\" : \"10-49\"}, inplace = True)\n",
    "df['company_size'].unique()\n",
    "\n",
    "test_df['company_size'].replace({\"10/49\" : \"10-49\"}, inplace = True)\n",
    "test_df['company_size'].unique()"
   ]
  },
  {
   "cell_type": "code",
   "execution_count": 67,
   "id": "daf0be53",
   "metadata": {},
   "outputs": [],
   "source": [
    "df['company_size'].replace({\"Missing\" : 0,\n",
    "                            \"No company\" : 0,\n",
    "                            \"<10\" : 1,\n",
    "                            \"10-49\" : 2,\n",
    "                            \"50-99\" : 3,\n",
    "                            \"100-499\" : 4,\n",
    "                            \"500-999\" : 5,\n",
    "                            \"1000-4999\" : 6,\n",
    "                            \"5000-9999\" : 7,\n",
    "                            \"10000+\" : 8}, inplace=True)\n",
    "\n",
    "df = df.join(pd.get_dummies(df['company_type'], prefix = \"Company_type\"))\n",
    "df.drop(columns='company_type', inplace = True)\n",
    "\n",
    "test_df['company_size'].replace({\"Missing\" : 0,\n",
    "                            \"No company\" : 0,\n",
    "                            \"<10\" : 1,\n",
    "                            \"10-49\" : 2,\n",
    "                            \"50-99\" : 3,\n",
    "                            \"100-499\" : 4,\n",
    "                            \"500-999\" : 5,\n",
    "                            \"1000-4999\" : 6,\n",
    "                            \"5000-9999\" : 7,\n",
    "                            \"10000+\" : 8}, inplace=True)\n",
    "\n",
    "test_df = test_df.join(pd.get_dummies(test_df['company_type'], prefix = \"Company_type\"))\n",
    "test_df.drop(columns='company_type', inplace = True)"
   ]
  },
  {
   "cell_type": "markdown",
   "id": "da74153c",
   "metadata": {},
   "source": [
    "<b>Encoding Last new job </b>\n",
    "\n",
    "\n",
    "- Similar to experience, we use 0 to replace `never` and use 5 to replace `>4`"
   ]
  },
  {
   "cell_type": "code",
   "execution_count": 46,
   "id": "25bd98c9",
   "metadata": {},
   "outputs": [],
   "source": [
    "df['last_new_job'].replace({\"never\" : 0,\n",
    "                          \">4\" : 5}, inplace = True)\n",
    "\n",
    "df['last_new_job'] = df['last_new_job'].astype(\"int\")\n",
    "\n",
    "test_df['last_new_job'].replace({\"never\" : 0,\n",
    "                          \">4\" : 5}, inplace = True)\n",
    "\n",
    "test_df['last_new_job'] = df['last_new_job'].astype(\"int\")"
   ]
  },
  {
   "cell_type": "markdown",
   "id": "5c33c149",
   "metadata": {},
   "source": [
    "<b> Imbalanced Dataset </b>\n",
    "\n",
    "\n",
    "> We actually can see from our dataset that the target values has a very imbalanced distribution. This might cause our algorithm to be heavily biased. Let's see what we can do to avoid this or fix the problem"
   ]
  },
  {
   "cell_type": "code",
   "execution_count": 47,
   "id": "e877e88b",
   "metadata": {},
   "outputs": [
    {
     "data": {
      "image/png": "[encoded data removed]",
      "text/plain": [
       "<Figure size 432x288 with 1 Axes>"
      ]
     },
     "metadata": {
      "needs_background": "light"
     },
     "output_type": "display_data"
    }
   ],
   "source": [
    "g = sns.countplot(x = 'target', data = df)\n",
    "#g.set_xticklabels([\"Not looking for job change\", \"Looking for job change\"], fontsize = 12)"
   ]
  },
  {
   "cell_type": "markdown",
   "id": "45a76ed8",
   "metadata": {},
   "source": [
    "<b> Using RandomForest Classifiers </b>\n",
    "\n",
    "Usually trees will perform well on imbalanced dataset. Thus, this can allow both of the classes being addressed"
   ]
  },
  {
   "cell_type": "code",
   "execution_count": 48,
   "id": "ceb6ff48",
   "metadata": {},
   "outputs": [
    {
     "name": "stdout",
     "output_type": "stream",
     "text": [
      "The average true positive rate is: 0.46680662449955446\n",
      "The average accuracy is: 0.7860037243993876\n",
      "The average f1_score is: 0.516933998614588\n",
      "The average roc auc score is: 0.6782773280405213\n"
     ]
    }
   ],
   "source": [
    "from sklearn.model_selection import StratifiedKFold\n",
    "from sklearn.ensemble import RandomForestClassifier\n",
    "from sklearn.metrics import confusion_matrix, recall_score, roc_auc_score, f1_score\n",
    "\n",
    "\n",
    "X = df.drop(columns = 'target')\n",
    "y = df['target']\n",
    "skf = StratifiedKFold(n_splits=5)\n",
    "rf = RandomForestClassifier()\n",
    "#We care about the True negative rate because we wonder if the algorithm will biased\n",
    "# against the 1 values because not too many people are looking for jobs\n",
    "tpr_list = []\n",
    "acc_list = []\n",
    "f1_list = []\n",
    "roc_auc_list = []\n",
    "#recall_list = []\n",
    "\n",
    "for train, val in skf.split(X, y):\n",
    "    X_train, y_train = X.iloc[train], y.iloc[train]\n",
    "    X_val, y_val = X.iloc[val], y.iloc[val]\n",
    "    rf.fit(X_train, y_train)\n",
    "    con_mat = confusion_matrix(y_val, rf.predict(X_val))\n",
    "    tpr_list.append((con_mat[1,1]) / (con_mat[1,1] + con_mat[1,0]))\n",
    "    acc_list.append(rf.score(X_val, y_val))\n",
    "    f1_list.append(f1_score(y_val, rf.predict(X_val)))\n",
    "    roc_auc_list.append(roc_auc_score(y_val, rf.predict(X_val)))\n",
    "    #recall_list.append(recall_score(y_val , rf.predict(X_val)))\n",
    "\n",
    "    \n",
    "print(\"The average true positive rate is: {}\".format((sum(tpr_list)/len(tpr_list))))\n",
    "print(\"The average accuracy is: {}\".format((sum(acc_list)/len(acc_list))))\n",
    "print(\"The average f1_score is: {}\".format((sum(f1_list)/len(f1_list))))\n",
    "print(\"The average roc auc score is: {}\".format((sum(roc_auc_list)/len(roc_auc_list))))\n",
    "#print(\"The average recall score is: {}\".format((sum(recall_list)/len(recall_list))))"
   ]
  },
  {
   "cell_type": "markdown",
   "id": "f193e248",
   "metadata": {},
   "source": [
    "<b>Using weighted SVM to penalized the biased dataset </b>\n",
    "<br>\n",
    "\n",
    "Seems Like the RandomForest failed to differentiate the 1 and 0 in the target. We can see the true negative rate is much lower than the average accuracy. Let's try to use SVM and set the weighted = `balanced` so that the SVM can be penalized when all predicting 0"
   ]
  },
  {
   "cell_type": "code",
   "execution_count": 49,
   "id": "264e6db1",
   "metadata": {},
   "outputs": [
    {
     "name": "stdout",
     "output_type": "stream",
     "text": [
      "The average true positive rate is: 0.6224782551752298\n",
      "The average accuracy is: 0.6288147331395402\n",
      "The average f1_score is: 0.9022799936121275\n",
      "The average roc auc score is: 0.9346051225847416\n"
     ]
    }
   ],
   "source": [
    "from sklearn.svm import SVC\n",
    "svm = SVC(class_weight='balanced')\n",
    "\n",
    "tpr_list = []\n",
    "acc_list = []\n",
    "f1_list = []\n",
    "roc_auc_list = []\n",
    "\n",
    "for train, val in skf.split(X, y):\n",
    "    X_train, y_train = X.iloc[train], y.iloc[train]\n",
    "    X_val, y_val = X.iloc[val], y.iloc[val]\n",
    "    svm.fit(X_train, y_train)\n",
    "    con_mat = confusion_matrix(y_val, svm.predict(X_val))\n",
    "    tpr_list.append((con_mat[1,1]) / (con_mat[1,1] + con_mat[1,0]))\n",
    "    #tnr_list.append((con_mat[1,1] + con_mat[0,0]) / (con_mat[0,0] + con_mat[0,1] + con_mat[1,0] + con_mat[1,1]))\n",
    "    acc_list.append(svm.score(X_val, y_val))\n",
    "    f1_list.append(f1_score(y_val, rf.predict(X_val)))\n",
    "    roc_auc_list.append(roc_auc_score(y_val, rf.predict(X_val)))\n",
    "\n",
    "    \n",
    "print(\"The average true positive rate is: {}\".format((sum(tpr_list)/len(tpr_list))))\n",
    "print(\"The average accuracy is: {}\".format((sum(acc_list)/len(acc_list))))\n",
    "print(\"The average f1_score is: {}\".format((sum(f1_list)/len(f1_list))))\n",
    "print(\"The average roc auc score is: {}\".format((sum(roc_auc_list)/len(roc_auc_list))))"
   ]
  },
  {
   "cell_type": "markdown",
   "id": "40bb3370",
   "metadata": {},
   "source": [
    "The tpr and accuracy for SVM is quite the same but we see that the accuracy is quite low. So it might not be the optimal model for our dataset\n",
    "\n",
    "---\n",
    "<b> Under sampling </b>\n",
    "<br>\n",
    "We can try to first balanced our dataset and then feed the dataset into trees\n",
    "\n",
    "First using `Random under sampling` technique to balance the dataset"
   ]
  },
  {
   "cell_type": "code",
   "execution_count": 50,
   "id": "c2e18ff0",
   "metadata": {},
   "outputs": [
    {
     "data": {
      "text/plain": [
       "<AxesSubplot:xlabel='target', ylabel='count'>"
      ]
     },
     "execution_count": 50,
     "metadata": {},
     "output_type": "execute_result"
    },
    {
     "data": {
      "image/png": "[encoded data removed]",
      "text/plain": [
       "<Figure size 432x288 with 1 Axes>"
      ]
     },
     "metadata": {
      "needs_background": "light"
     },
     "output_type": "display_data"
    }
   ],
   "source": [
    "from imblearn.under_sampling import RandomUnderSampler\n",
    "\n",
    "rus = RandomUnderSampler(random_state=42, replacement=True)\n",
    "\n",
    "X_rus, y_rus = rus.fit_resample(X, y)\n",
    "sns.countplot(x = y_rus)"
   ]
  },
  {
   "cell_type": "code",
   "execution_count": 51,
   "id": "0b6f604f",
   "metadata": {},
   "outputs": [
    {
     "name": "stdout",
     "output_type": "stream",
     "text": [
      "The average true positive rate is: 0.742579024814909\n",
      "The average accuracy_rus is: 0.7788358640868273\n",
      "The average f1_score is: 0.7437129644416061\n",
      "The average roc auc score is: 0.877375108118849\n"
     ]
    }
   ],
   "source": [
    "tpr_list = []\n",
    "acc_list = []\n",
    "#recall_list = []\n",
    "f1_list = []\n",
    "roc_auc_list = []\n",
    "\n",
    "for train, val in skf.split(X_rus, y_rus):\n",
    "    X_rus_train, y_rus_train = X_rus.iloc[train], y_rus.iloc[train]\n",
    "    X_rus_val, y_rus_val = X_rus.iloc[val], y_rus.iloc[val]\n",
    "    rf.fit(X_rus_train, y_rus_train)\n",
    "    con_mat = confusion_matrix(y_rus_val, rf.predict(X_rus_val))\n",
    "    tpr_list.append((con_mat[1,1]) / (con_mat[1,1] + con_mat[1,0]))\n",
    "    acc_list.append(rf.score(X_rus_val, y_rus_val))\n",
    "    f1_list.append(f1_score(y_val, rf.predict(X_val)))\n",
    "    roc_auc_list.append(roc_auc_score(y_val, rf.predict(X_val)))\n",
    "    #recall_list.append(recall_score(y_rus_val , rf.predict(X_rus_val)))\n",
    "\n",
    "    \n",
    "print(\"The average true positive rate is: {}\".format((sum(tpr_list)/len(tpr_list))))\n",
    "print(\"The average accuracy_rus is: {}\".format((sum(acc_list)/len(acc_list))))\n",
    "print(\"The average f1_score is: {}\".format((sum(f1_list)/len(f1_list))))\n",
    "print(\"The average roc auc score is: {}\".format((sum(roc_auc_list)/len(roc_auc_list))))"
   ]
  },
  {
   "cell_type": "markdown",
   "id": "18820334",
   "metadata": {},
   "source": [
    "<b> Another under sampling technique </b>\n",
    "<br>\n",
    "Apart from random under sampling, we can apply some strategy on how we sample our data. We can try to use `Near Miss` which resample the data by distance"
   ]
  },
  {
   "cell_type": "code",
   "execution_count": 52,
   "id": "73c6079c",
   "metadata": {},
   "outputs": [
    {
     "data": {
      "text/plain": [
       "<AxesSubplot:xlabel='target', ylabel='count'>"
      ]
     },
     "execution_count": 52,
     "metadata": {},
     "output_type": "execute_result"
    },
    {
     "data": {
      "image/png": "[encoded data removed]",
      "text/plain": [
       "<Figure size 432x288 with 1 Axes>"
      ]
     },
     "metadata": {
      "needs_background": "light"
     },
     "output_type": "display_data"
    }
   ],
   "source": [
    "from imblearn.under_sampling import NearMiss\n",
    "\n",
    "nm = NearMiss()\n",
    "\n",
    "X_nm, y_nm = nm.fit_resample(X, y)\n",
    "sns.countplot(x = y_nm)"
   ]
  },
  {
   "cell_type": "code",
   "execution_count": 53,
   "id": "5d77e68d",
   "metadata": {},
   "outputs": [
    {
     "name": "stdout",
     "output_type": "stream",
     "text": [
      "The average true positive rate is: 0.7473332254759207\n",
      "The average accuracy_nm is: 0.7158475323950351\n",
      "The average f1_score is: 0.5872951249719914\n",
      "The average roc auc score is: 0.7668016691212567\n"
     ]
    }
   ],
   "source": [
    "tpr_list = []\n",
    "acc_list = []\n",
    "#recall_list = []\n",
    "f1_list = []\n",
    "roc_auc_list = []\n",
    "\n",
    "for train, val in skf.split(X_nm, y_nm):\n",
    "    X_nm_train, y_nm_train = X_nm.iloc[train], y_nm.iloc[train]\n",
    "    X_nm_val, y_nm_val = X_nm.iloc[val], y_nm.iloc[val]\n",
    "    rf.fit(X_nm_train, y_nm_train)\n",
    "    con_mat = confusion_matrix(y_nm_val, rf.predict(X_nm_val))\n",
    "    tpr_list.append((con_mat[1,1]) / (con_mat[1,1] + con_mat[1,0]))\n",
    "    acc_list.append(rf.score(X_nm_val, y_nm_val))\n",
    "    f1_list.append(f1_score(y_val, rf.predict(X_val)))\n",
    "    roc_auc_list.append(roc_auc_score(y_val, rf.predict(X_val)))\n",
    "    #recall_list.append(recall_score(y_nm_val , rf.predict(X_nm_val)))\n",
    "\n",
    "    \n",
    "print(\"The average true positive rate is: {}\".format((sum(tpr_list)/len(tpr_list))))\n",
    "print(\"The average accuracy_nm is: {}\".format((sum(acc_list)/len(acc_list))))\n",
    "print(\"The average f1_score is: {}\".format((sum(f1_list)/len(f1_list))))\n",
    "print(\"The average roc auc score is: {}\".format((sum(roc_auc_list)/len(roc_auc_list))))"
   ]
  },
  {
   "cell_type": "markdown",
   "id": "322ffdc7",
   "metadata": {},
   "source": [
    "We can see the balanced dataset performs a lot better. And seems `Random Under Sampling` is the better strategy to resampling the dataset\n",
    "\n",
    "---\n",
    "\n",
    "<b> Over sampling </b>\n",
    "\n",
    "Despite the under sampling, we can also try to over sample the dataset, which means to make the minority class to the same shape of the majority class. Let's first try `Random Over Sampling`"
   ]
  },
  {
   "cell_type": "code",
   "execution_count": 54,
   "id": "e8197601",
   "metadata": {},
   "outputs": [
    {
     "data": {
      "text/plain": [
       "<AxesSubplot:xlabel='target', ylabel='count'>"
      ]
     },
     "execution_count": 54,
     "metadata": {},
     "output_type": "execute_result"
    },
    {
     "data": {
      "image/png": "[encoded data removed]",
      "text/plain": [
       "<Figure size 432x288 with 1 Axes>"
      ]
     },
     "metadata": {
      "needs_background": "light"
     },
     "output_type": "display_data"
    }
   ],
   "source": [
    "from imblearn.over_sampling import RandomOverSampler\n",
    "\n",
    "ros = RandomOverSampler(random_state=42)\n",
    "X_ros, y_ros = ros.fit_resample(X, y)\n",
    "sns.countplot(x = y_ros)"
   ]
  },
  {
   "cell_type": "code",
   "execution_count": 55,
   "id": "5d9d6661",
   "metadata": {},
   "outputs": [
    {
     "name": "stdout",
     "output_type": "stream",
     "text": [
      "The average true positive rate is: 0.9763620262708945\n",
      "The average accuracy_ros is: 0.9093390531474117\n",
      "The average f1_score is: 0.951548321684682\n",
      "The average roc auc score is: 0.9757071557145196\n"
     ]
    }
   ],
   "source": [
    "tpr_list = []\n",
    "acc_list = []\n",
    "#recall_list = []\n",
    "f1_list = []\n",
    "roc_auc_list = []\n",
    "\n",
    "for train, val in skf.split(X_ros, y_ros):\n",
    "    X_ros_train, y_ros_train = X_ros.iloc[train], y_ros.iloc[train]\n",
    "    X_ros_val, y_ros_val = X_ros.iloc[val], y_ros.iloc[val]\n",
    "    rf.fit(X_ros_train, y_ros_train)\n",
    "    con_mat = confusion_matrix(y_ros_val, rf.predict(X_ros_val))\n",
    "    tpr_list.append((con_mat[1,1]) / (con_mat[1,1] + con_mat[1,0]))\n",
    "    acc_list.append(rf.score(X_ros_val, y_ros_val))\n",
    "    f1_list.append(f1_score(y_val, rf.predict(X_val)))\n",
    "    roc_auc_list.append(roc_auc_score(y_val, rf.predict(X_val)))\n",
    "    #recall_list.append(recall_score(y_ros_val , rf.predict(X_ros_val)))\n",
    "\n",
    "    \n",
    "print(\"The average true positive rate is: {}\".format((sum(tpr_list)/len(tpr_list))))\n",
    "print(\"The average accuracy_ros is: {}\".format((sum(acc_list)/len(acc_list))))\n",
    "print(\"The average f1_score is: {}\".format((sum(f1_list)/len(f1_list))))\n",
    "print(\"The average roc auc score is: {}\".format((sum(roc_auc_list)/len(roc_auc_list))))"
   ]
  },
  {
   "cell_type": "markdown",
   "id": "7a499940",
   "metadata": {},
   "source": [
    "Another over sampling technique is called `Synthetic Minority Oversampling Technique (SMOTE)`. This method generate new data points by:\n",
    "1. Picking a class as input\n",
    "2. Find its knn\n",
    "3. Add a point on the line that these neighbours join\n",
    "4. Repeat the steps until the dataset is balanced"
   ]
  },
  {
   "cell_type": "code",
   "execution_count": 56,
   "id": "e37907d9",
   "metadata": {},
   "outputs": [
    {
     "data": {
      "text/plain": [
       "<AxesSubplot:xlabel='target', ylabel='count'>"
      ]
     },
     "execution_count": 56,
     "metadata": {},
     "output_type": "execute_result"
    },
    {
     "data": {
      "image/png": "[encoded data removed]",
      "text/plain": [
       "<Figure size 432x288 with 1 Axes>"
      ]
     },
     "metadata": {
      "needs_background": "light"
     },
     "output_type": "display_data"
    }
   ],
   "source": [
    "from imblearn.over_sampling import SMOTE\n",
    "\n",
    "smote = SMOTE()\n",
    "X_smote, y_smote = smote.fit_resample(X, y)\n",
    "sns.countplot(x = y_smote)"
   ]
  },
  {
   "cell_type": "code",
   "execution_count": 57,
   "id": "1033939c",
   "metadata": {
    "scrolled": true
   },
   "outputs": [
    {
     "name": "stdout",
     "output_type": "stream",
     "text": [
      "The average true positive rate is: 0.8111868010859865\n",
      "The average accuracy_smote is: 0.8308347269493384\n",
      "The average f1_score is: 0.9028504007583722\n",
      "The average roc auc score is: 0.938987072492227\n"
     ]
    }
   ],
   "source": [
    "tpr_list = []\n",
    "acc_list = []\n",
    "#recall_list = []\n",
    "f1_list = []\n",
    "roc_auc_list = []\n",
    "\n",
    "for train, val in skf.split(X_smote, y_smote):\n",
    "    X_smote_train, y_smote_train = X_smote.iloc[train], y_smote.iloc[train]\n",
    "    X_smote_val, y_smote_val = X_smote.iloc[val], y_smote.iloc[val]\n",
    "    rf.fit(X_smote_train, y_smote_train)\n",
    "    con_mat = confusion_matrix(y_smote_val, rf.predict(X_smote_val))\n",
    "    tpr_list.append((con_mat[1,1]) / (con_mat[1,1] + con_mat[1,0]))\n",
    "    acc_list.append(rf.score(X_smote_val, y_smote_val))\n",
    "    f1_list.append(f1_score(y_val, rf.predict(X_val)))\n",
    "    roc_auc_list.append(roc_auc_score(y_val, rf.predict(X_val)))\n",
    "    #recall_list.append(recall_score(y_smote_val , rf.predict(X_smote_val)))\n",
    "\n",
    "    \n",
    "print(\"The average true positive rate is: {}\".format((sum(tpr_list)/len(tpr_list))))\n",
    "print(\"The average accuracy_smote is: {}\".format((sum(acc_list)/len(acc_list))))\n",
    "print(\"The average f1_score is: {}\".format((sum(f1_list)/len(f1_list))))\n",
    "print(\"The average roc auc score is: {}\".format((sum(roc_auc_list)/len(roc_auc_list))))"
   ]
  },
  {
   "cell_type": "markdown",
   "id": "591ce263",
   "metadata": {},
   "source": [
    "<b> `Random Over Sampling` is the best sampling technique </b>\n",
    "\n",
    "`Random Over Sampling` has a very high accuracy, f1 score and auc score. This shows that the model tpr and fpr is good enough. <br>\n",
    "<br>\n",
    "\n",
    "> $f1 = 2 * (precision * recall) / (precision + recall)$, where recall is also known as tpr\n",
    "<br>\n",
    "\n",
    "A low f1 score means that the precision of the model is very low, this means that our model predict many false positive.\n",
    "\n",
    "> roc auc score gives the Area under the roc curve. \n",
    "<br>\n",
    "\n",
    "The more closer the value of the area approach 1, the better the model"
   ]
  },
  {
   "cell_type": "markdown",
   "id": "e9009b42",
   "metadata": {},
   "source": [
    "---\n",
    "\n",
    "<b> Choosing Algorithm </b>\n",
    "\n",
    "Next, I will try a different few more algorithm and choose one with highest accuracy and tune the algorithm (Random Forest has already been used)"
   ]
  },
  {
   "cell_type": "code",
   "execution_count": 58,
   "id": "4a5034a8",
   "metadata": {
    "scrolled": true
   },
   "outputs": [
    {
     "name": "stdout",
     "output_type": "stream",
     "text": [
      "The average true positive rate is: 0.6243184783168836\n",
      "The average accuracy_ros is: 0.6266385371818197\n",
      "The average f1_score is: 0.45944957264178277\n",
      "The average roc auc score is: 0.6344566005096196\n"
     ]
    }
   ],
   "source": [
    "tpr_list = []\n",
    "acc_list = []\n",
    "#recall_list = []\n",
    "f1_list = []\n",
    "roc_auc_list = []\n",
    "#Support Vector Machine\n",
    "svm = SVC()\n",
    "\n",
    "for train, val in skf.split(X_ros, y_ros):\n",
    "    X_ros_train, y_ros_train = X_ros.iloc[train], y_ros.iloc[train]\n",
    "    X_ros_val, y_ros_val = X_ros.iloc[val], y_ros.iloc[val]\n",
    "    svm.fit(X_ros_train, y_ros_train)\n",
    "    con_mat = confusion_matrix(y_ros_val, svm.predict(X_ros_val))\n",
    "    tpr_list.append((con_mat[1,1]) / (con_mat[1,1] + con_mat[1,0]))\n",
    "    acc_list.append(svm.score(X_ros_val, y_ros_val))\n",
    "    f1_list.append(f1_score(y_val, svm.predict(X_val)))\n",
    "    roc_auc_list.append(roc_auc_score(y_val, svm.predict(X_val)))\n",
    "    #recall_list.append(recall_score(y_ros_val , svm.predict(X_ros_val)))\n",
    "\n",
    "    \n",
    "print(\"The average true positive rate is: {}\".format((sum(tpr_list)/len(tpr_list))))\n",
    "print(\"The average accuracy_ros is: {}\".format((sum(acc_list)/len(acc_list))))\n",
    "print(\"The average f1_score is: {}\".format((sum(f1_list)/len(f1_list))))\n",
    "print(\"The average roc auc score is: {}\".format((sum(roc_auc_list)/len(roc_auc_list))))"
   ]
  },
  {
   "cell_type": "code",
   "execution_count": 59,
   "id": "95981892",
   "metadata": {},
   "outputs": [
    {
     "name": "stdout",
     "output_type": "stream",
     "text": [
      "The average true positive rate is: 0.974079230370738\n",
      "The average accuracy_ros is: 0.9069823551536494\n",
      "The average f1_score is: 0.9490722851048987\n",
      "The average roc auc score is: 0.9739474483951657\n"
     ]
    }
   ],
   "source": [
    "from xgboost import XGBClassifier\n",
    "\n",
    "tpr_list = []\n",
    "acc_list = []\n",
    "#recall_list = []\n",
    "f1_list = []\n",
    "roc_auc_list = []\n",
    "\n",
    "#Manually tune parameters\n",
    "xgb = XGBClassifier(n_estimators=1000,\n",
    "                     max_depth=10,\n",
    "                     max_leaves=192,\n",
    "                     eta=0.1,\n",
    "                     reg_lambda=0,\n",
    "                     #tree_method='hist',\n",
    "                     eval_metric='logloss',\n",
    "                     use_label_encoder=False,\n",
    "                     random_state=1000,\n",
    "                     n_jobs=-1)\n",
    "\n",
    "for train, val in skf.split(X_ros, y_ros):\n",
    "    X_ros_train, y_ros_train = X_ros.iloc[train], y_ros.iloc[train]\n",
    "    X_ros_val, y_ros_val = X_ros.iloc[val], y_ros.iloc[val]\n",
    "    xgb.fit(X_ros_train, y_ros_train)\n",
    "    con_mat = confusion_matrix(y_ros_val, xgb.predict(X_ros_val))\n",
    "    tpr_list.append((con_mat[1,1]) / (con_mat[1,1] + con_mat[1,0]))\n",
    "    acc_list.append(xgb.score(X_ros_val, y_ros_val))\n",
    "    f1_list.append(f1_score(y_val, xgb.predict(X_val)))\n",
    "    roc_auc_list.append(roc_auc_score(y_val, xgb.predict(X_val)))\n",
    "    #recall_list.append(recall_score(y_ros_val , xgb.predict(X_ros_val)))\n",
    "\n",
    "    \n",
    "print(\"The average true positive rate is: {}\".format((sum(tpr_list)/len(tpr_list))))\n",
    "print(\"The average accuracy_ros is: {}\".format((sum(acc_list)/len(acc_list))))\n",
    "print(\"The average f1_score is: {}\".format((sum(f1_list)/len(f1_list))))\n",
    "print(\"The average roc auc score is: {}\".format((sum(roc_auc_list)/len(roc_auc_list))))"
   ]
  },
  {
   "cell_type": "code",
   "execution_count": 60,
   "id": "fb31349d",
   "metadata": {},
   "outputs": [
    {
     "name": "stdout",
     "output_type": "stream",
     "text": [
      "The average true positive rate is: 0.7493738489871087\n",
      "The average accuracy_ros is: 0.7277210561525785\n",
      "The average f1_score is: 0.577941856980881\n",
      "The average roc auc score is: 0.7383108913668561\n"
     ]
    }
   ],
   "source": [
    "from sklearn.linear_model import LogisticRegression\n",
    "\n",
    "logistic = LogisticRegression(max_iter= 1000)\n",
    "\n",
    "tpr_list = []\n",
    "acc_list = []\n",
    "#recall_list = []\n",
    "f1_list = []\n",
    "roc_auc_list = []\n",
    "\n",
    "for train, val in skf.split(X_ros, y_ros):\n",
    "    X_ros_train, y_ros_train = X_ros.iloc[train], y_ros.iloc[train]\n",
    "    X_ros_val, y_ros_val = X_ros.iloc[val], y_ros.iloc[val]\n",
    "    logistic.fit(X_ros_train, y_ros_train)\n",
    "    con_mat = confusion_matrix(y_ros_val, logistic.predict(X_ros_val))\n",
    "    tpr_list.append((con_mat[1,1]) / (con_mat[1,1] + con_mat[1,0]))\n",
    "    acc_list.append(logistic.score(X_ros_val, y_ros_val))\n",
    "    f1_list.append(f1_score(y_val, logistic.predict(X_val)))\n",
    "    roc_auc_list.append(roc_auc_score(y_val, logistic.predict(X_val)))\n",
    "    #recall_list.append(recall_score(y_ros_val , logistic.predict(X_ros_val)))\n",
    "\n",
    "    \n",
    "print(\"The average true positive rate is: {}\".format((sum(tpr_list)/len(tpr_list))))\n",
    "print(\"The average accuracy_ros is: {}\".format((sum(acc_list)/len(acc_list))))\n",
    "print(\"The average f1_score is: {}\".format((sum(f1_list)/len(f1_list))))\n",
    "print(\"The average roc auc score is: {}\".format((sum(roc_auc_list)/len(roc_auc_list))))"
   ]
  },
  {
   "cell_type": "code",
   "execution_count": 61,
   "id": "fe31a875",
   "metadata": {
    "scrolled": true
   },
   "outputs": [
    {
     "name": "stdout",
     "output_type": "stream",
     "text": [
      "The average true positive rate is: 0.9738583986308541\n",
      "The average accuracy_ros is: 0.9070191536667401\n",
      "The average f1_score is: 0.9491220956324762\n",
      "The average roc auc score is: 0.973711924632396\n"
     ]
    }
   ],
   "source": [
    "from lightgbm import LGBMClassifier\n",
    "#Manually tune parameters\n",
    "lgbm = LGBMClassifier(n_estimators=1000,\n",
    "                     num_leaves=192,\n",
    "                     max_depth=10,\n",
    "                     learning_rate=0.1,\n",
    "                     random_state=1000,\n",
    "                     n_jobs=-1)\n",
    "\n",
    "tpr_list = []\n",
    "acc_list = []\n",
    "#recall_list = []\n",
    "f1_list = []\n",
    "roc_auc_list = []\n",
    "\n",
    "for train, val in skf.split(X_ros, y_ros):\n",
    "    X_ros_train, y_ros_train = X_ros.iloc[train], y_ros.iloc[train]\n",
    "    X_ros_val, y_ros_val = X_ros.iloc[val], y_ros.iloc[val]\n",
    "    lgbm.fit(X_ros_train, y_ros_train)\n",
    "    con_mat = confusion_matrix(y_ros_val, lgbm.predict(X_ros_val))\n",
    "    tpr_list.append((con_mat[1,1]) / (con_mat[1,1] + con_mat[1,0]))\n",
    "    acc_list.append(lgbm.score(X_ros_val, y_ros_val))\n",
    "    f1_list.append(f1_score(y_val, lgbm.predict(X_val)))\n",
    "    roc_auc_list.append(roc_auc_score(y_val, lgbm.predict(X_val)))\n",
    "    #recall_list.append(recall_score(y_ros_val , lgbm.predict(X_ros_val)))\n",
    "\n",
    "    \n",
    "print(\"The average true positive rate is: {}\".format((sum(tpr_list)/len(tpr_list))))\n",
    "print(\"The average accuracy_ros is: {}\".format((sum(acc_list)/len(acc_list))))\n",
    "print(\"The average f1_score is: {}\".format((sum(f1_list)/len(f1_list))))\n",
    "print(\"The average roc auc score is: {}\".format((sum(roc_auc_list)/len(roc_auc_list))))"
   ]
  },
  {
   "cell_type": "markdown",
   "id": "b8e87b2d",
   "metadata": {},
   "source": [
    "---\n",
    "<b>Model representation and summary </b>"
   ]
  },
  {
   "cell_type": "code",
   "execution_count": 62,
   "id": "258c6528",
   "metadata": {},
   "outputs": [
    {
     "name": "stdout",
     "output_type": "stream",
     "text": [
      "Random Forest\n",
      "--------------\n",
      "Accuracy:  0.8960082486375018\n",
      "True positive rate:  0.960166468489893\n",
      "F1 score:  0.9014792073681273\n",
      "Roc auc score:  0.89657958460991\n",
      "--------------\n",
      "\n",
      "\n",
      "Light Gradient Boost\n",
      "--------------\n",
      "Accuracy:  0.8898217705111209\n",
      "True positive rate:  0.9488703923900119\n",
      "F1 score:  0.8951205832865957\n",
      "Roc auc score:  0.8903476049541301\n",
      "--------------\n",
      "\n",
      "\n",
      "XGBoost\n",
      "--------------\n",
      "Accuracy:  0.8895271763146266\n",
      "True positive rate:  0.9482758620689655\n",
      "F1 score:  0.8948106591865358\n",
      "Roc auc score:  0.8900503397936068\n",
      "--------------\n",
      "\n",
      "\n"
     ]
    }
   ],
   "source": [
    "from sklearn.model_selection import train_test_split\n",
    "\n",
    "model = {'Random Forest': rf, \"Light Gradient Boost\" : lgbm, \"XGBoost\" : xgb}\n",
    "X_ros_train, X_ros_val, y_ros_train, y_ros_val = train_test_split(X_ros, y_ros, random_state = 42)\n",
    "\n",
    "for i in model.keys():\n",
    "    model[i].fit(X_ros_train, y_ros_train)\n",
    "    print(i)\n",
    "    print(\"--------------\")\n",
    "    print(\"Accuracy: \", model[i].score(X_ros_val, y_ros_val))\n",
    "    print(\"True positive rate: \", recall_score(y_ros_val, model[i].predict(X_ros_val)))\n",
    "    print(\"F1 score: \", f1_score(y_ros_val, model[i].predict(X_ros_val)))\n",
    "    print(\"Roc auc score: \", roc_auc_score(y_ros_val, model[i].predict(X_ros_val)))\n",
    "    print(\"--------------\")\n",
    "    print(\"\\n\")"
   ]
  },
  {
   "cell_type": "code",
   "execution_count": 63,
   "id": "76f6207f",
   "metadata": {},
   "outputs": [
    {
     "data": {
      "image/png": "[encoded data removed]",
      "text/plain": [
       "<Figure size 1080x576 with 3 Axes>"
      ]
     },
     "metadata": {
      "needs_background": "light"
     },
     "output_type": "display_data"
    }
   ],
   "source": [
    "from sklearn.metrics import plot_roc_curve\n",
    "import warnings\n",
    "warnings.filterwarnings(\"ignore\")\n",
    "f, ax = plt.subplots(1,3, figsize = (15,8))\n",
    "axis = 0\n",
    "for key, values in model.items():\n",
    "    plot_roc_curve(values, X_ros_val, y_ros_val, ax = ax[axis])\n",
    "    ax[axis].set_title(key)\n",
    "    axis = axis + 1"
   ]
  },
  {
   "cell_type": "markdown",
   "id": "9cf73e56",
   "metadata": {},
   "source": [
    "<b> Predicting our test dataset to apply in real life </b>"
   ]
  },
  {
   "cell_type": "code",
   "execution_count": 68,
   "id": "6c7b4483",
   "metadata": {},
   "outputs": [],
   "source": [
    "test_df['target'] = xgb.predict(test_df)"
   ]
  },
  {
   "cell_type": "code",
   "execution_count": 69,
   "id": "e32a2b41",
   "metadata": {},
   "outputs": [
    {
     "data": {
      "text/html": [
       "<div>\n",
       "<style scoped>\n",
       "    .dataframe tbody tr th:only-of-type {\n",
       "        vertical-align: middle;\n",
       "    }\n",
       "\n",
       "    .dataframe tbody tr th {\n",
       "        vertical-align: top;\n",
       "    }\n",
       "\n",
       "    .dataframe thead th {\n",
       "        text-align: right;\n",
       "    }\n",
       "</style>\n",
       "<table border=\"1\" class=\"dataframe\">\n",
       "  <thead>\n",
       "    <tr style=\"text-align: right;\">\n",
       "      <th></th>\n",
       "      <th>city_development_index</th>\n",
       "      <th>relevent_experience</th>\n",
       "      <th>enrolled_university</th>\n",
       "      <th>education_level</th>\n",
       "      <th>experience</th>\n",
       "      <th>company_size</th>\n",
       "      <th>last_new_job</th>\n",
       "      <th>training_hours</th>\n",
       "      <th>Female</th>\n",
       "      <th>Male</th>\n",
       "      <th>...</th>\n",
       "      <th>Major_STEM</th>\n",
       "      <th>Company_type_Early Stage Startup</th>\n",
       "      <th>Company_type_Funded Startup</th>\n",
       "      <th>Company_type_Missing</th>\n",
       "      <th>Company_type_NGO</th>\n",
       "      <th>Company_type_No company</th>\n",
       "      <th>Company_type_Other</th>\n",
       "      <th>Company_type_Public Sector</th>\n",
       "      <th>Company_type_Pvt Ltd</th>\n",
       "      <th>target</th>\n",
       "    </tr>\n",
       "  </thead>\n",
       "  <tbody>\n",
       "    <tr>\n",
       "      <th>0</th>\n",
       "      <td>0.827</td>\n",
       "      <td>1</td>\n",
       "      <td>2</td>\n",
       "      <td>2</td>\n",
       "      <td>21.0</td>\n",
       "      <td>1</td>\n",
       "      <td>1.0</td>\n",
       "      <td>21</td>\n",
       "      <td>0</td>\n",
       "      <td>1</td>\n",
       "      <td>...</td>\n",
       "      <td>1</td>\n",
       "      <td>0</td>\n",
       "      <td>0</td>\n",
       "      <td>1</td>\n",
       "      <td>0</td>\n",
       "      <td>0</td>\n",
       "      <td>0</td>\n",
       "      <td>0</td>\n",
       "      <td>0</td>\n",
       "      <td>0</td>\n",
       "    </tr>\n",
       "    <tr>\n",
       "      <th>1</th>\n",
       "      <td>0.920</td>\n",
       "      <td>1</td>\n",
       "      <td>0</td>\n",
       "      <td>2</td>\n",
       "      <td>15.0</td>\n",
       "      <td>0</td>\n",
       "      <td>5.0</td>\n",
       "      <td>98</td>\n",
       "      <td>1</td>\n",
       "      <td>0</td>\n",
       "      <td>...</td>\n",
       "      <td>1</td>\n",
       "      <td>0</td>\n",
       "      <td>0</td>\n",
       "      <td>0</td>\n",
       "      <td>0</td>\n",
       "      <td>0</td>\n",
       "      <td>0</td>\n",
       "      <td>0</td>\n",
       "      <td>1</td>\n",
       "      <td>1</td>\n",
       "    </tr>\n",
       "    <tr>\n",
       "      <th>2</th>\n",
       "      <td>0.624</td>\n",
       "      <td>0</td>\n",
       "      <td>0</td>\n",
       "      <td>1</td>\n",
       "      <td>5.0</td>\n",
       "      <td>0</td>\n",
       "      <td>0.0</td>\n",
       "      <td>15</td>\n",
       "      <td>0</td>\n",
       "      <td>1</td>\n",
       "      <td>...</td>\n",
       "      <td>0</td>\n",
       "      <td>0</td>\n",
       "      <td>0</td>\n",
       "      <td>0</td>\n",
       "      <td>0</td>\n",
       "      <td>0</td>\n",
       "      <td>0</td>\n",
       "      <td>0</td>\n",
       "      <td>1</td>\n",
       "      <td>1</td>\n",
       "    </tr>\n",
       "    <tr>\n",
       "      <th>3</th>\n",
       "      <td>0.827</td>\n",
       "      <td>1</td>\n",
       "      <td>0</td>\n",
       "      <td>3</td>\n",
       "      <td>NaN</td>\n",
       "      <td>2</td>\n",
       "      <td>NaN</td>\n",
       "      <td>39</td>\n",
       "      <td>0</td>\n",
       "      <td>1</td>\n",
       "      <td>...</td>\n",
       "      <td>1</td>\n",
       "      <td>0</td>\n",
       "      <td>0</td>\n",
       "      <td>0</td>\n",
       "      <td>0</td>\n",
       "      <td>0</td>\n",
       "      <td>0</td>\n",
       "      <td>0</td>\n",
       "      <td>1</td>\n",
       "      <td>0</td>\n",
       "    </tr>\n",
       "    <tr>\n",
       "      <th>4</th>\n",
       "      <td>0.920</td>\n",
       "      <td>1</td>\n",
       "      <td>0</td>\n",
       "      <td>2</td>\n",
       "      <td>21.0</td>\n",
       "      <td>8</td>\n",
       "      <td>4.0</td>\n",
       "      <td>72</td>\n",
       "      <td>0</td>\n",
       "      <td>1</td>\n",
       "      <td>...</td>\n",
       "      <td>1</td>\n",
       "      <td>0</td>\n",
       "      <td>0</td>\n",
       "      <td>0</td>\n",
       "      <td>0</td>\n",
       "      <td>0</td>\n",
       "      <td>0</td>\n",
       "      <td>0</td>\n",
       "      <td>1</td>\n",
       "      <td>0</td>\n",
       "    </tr>\n",
       "    <tr>\n",
       "      <th>...</th>\n",
       "      <td>...</td>\n",
       "      <td>...</td>\n",
       "      <td>...</td>\n",
       "      <td>...</td>\n",
       "      <td>...</td>\n",
       "      <td>...</td>\n",
       "      <td>...</td>\n",
       "      <td>...</td>\n",
       "      <td>...</td>\n",
       "      <td>...</td>\n",
       "      <td>...</td>\n",
       "      <td>...</td>\n",
       "      <td>...</td>\n",
       "      <td>...</td>\n",
       "      <td>...</td>\n",
       "      <td>...</td>\n",
       "      <td>...</td>\n",
       "      <td>...</td>\n",
       "      <td>...</td>\n",
       "      <td>...</td>\n",
       "      <td>...</td>\n",
       "    </tr>\n",
       "    <tr>\n",
       "      <th>2124</th>\n",
       "      <td>0.920</td>\n",
       "      <td>0</td>\n",
       "      <td>0</td>\n",
       "      <td>2</td>\n",
       "      <td>3.0</td>\n",
       "      <td>0</td>\n",
       "      <td>0.0</td>\n",
       "      <td>15</td>\n",
       "      <td>0</td>\n",
       "      <td>1</td>\n",
       "      <td>...</td>\n",
       "      <td>0</td>\n",
       "      <td>0</td>\n",
       "      <td>0</td>\n",
       "      <td>0</td>\n",
       "      <td>0</td>\n",
       "      <td>0</td>\n",
       "      <td>0</td>\n",
       "      <td>1</td>\n",
       "      <td>0</td>\n",
       "      <td>1</td>\n",
       "    </tr>\n",
       "    <tr>\n",
       "      <th>2125</th>\n",
       "      <td>0.897</td>\n",
       "      <td>1</td>\n",
       "      <td>0</td>\n",
       "      <td>3</td>\n",
       "      <td>8.0</td>\n",
       "      <td>0</td>\n",
       "      <td>1.0</td>\n",
       "      <td>30</td>\n",
       "      <td>0</td>\n",
       "      <td>1</td>\n",
       "      <td>...</td>\n",
       "      <td>1</td>\n",
       "      <td>0</td>\n",
       "      <td>0</td>\n",
       "      <td>1</td>\n",
       "      <td>0</td>\n",
       "      <td>0</td>\n",
       "      <td>0</td>\n",
       "      <td>0</td>\n",
       "      <td>0</td>\n",
       "      <td>0</td>\n",
       "    </tr>\n",
       "    <tr>\n",
       "      <th>2126</th>\n",
       "      <td>0.887</td>\n",
       "      <td>0</td>\n",
       "      <td>0</td>\n",
       "      <td>0</td>\n",
       "      <td>0.0</td>\n",
       "      <td>0</td>\n",
       "      <td>1.0</td>\n",
       "      <td>18</td>\n",
       "      <td>0</td>\n",
       "      <td>1</td>\n",
       "      <td>...</td>\n",
       "      <td>0</td>\n",
       "      <td>0</td>\n",
       "      <td>0</td>\n",
       "      <td>0</td>\n",
       "      <td>0</td>\n",
       "      <td>0</td>\n",
       "      <td>0</td>\n",
       "      <td>0</td>\n",
       "      <td>1</td>\n",
       "      <td>0</td>\n",
       "    </tr>\n",
       "    <tr>\n",
       "      <th>2127</th>\n",
       "      <td>0.804</td>\n",
       "      <td>1</td>\n",
       "      <td>2</td>\n",
       "      <td>1</td>\n",
       "      <td>11.0</td>\n",
       "      <td>4</td>\n",
       "      <td>1.0</td>\n",
       "      <td>84</td>\n",
       "      <td>0</td>\n",
       "      <td>1</td>\n",
       "      <td>...</td>\n",
       "      <td>0</td>\n",
       "      <td>0</td>\n",
       "      <td>0</td>\n",
       "      <td>0</td>\n",
       "      <td>0</td>\n",
       "      <td>0</td>\n",
       "      <td>0</td>\n",
       "      <td>1</td>\n",
       "      <td>0</td>\n",
       "      <td>0</td>\n",
       "    </tr>\n",
       "    <tr>\n",
       "      <th>2128</th>\n",
       "      <td>0.804</td>\n",
       "      <td>1</td>\n",
       "      <td>0</td>\n",
       "      <td>3</td>\n",
       "      <td>15.0</td>\n",
       "      <td>8</td>\n",
       "      <td>3.0</td>\n",
       "      <td>11</td>\n",
       "      <td>0</td>\n",
       "      <td>1</td>\n",
       "      <td>...</td>\n",
       "      <td>1</td>\n",
       "      <td>0</td>\n",
       "      <td>0</td>\n",
       "      <td>0</td>\n",
       "      <td>0</td>\n",
       "      <td>0</td>\n",
       "      <td>0</td>\n",
       "      <td>0</td>\n",
       "      <td>1</td>\n",
       "      <td>0</td>\n",
       "    </tr>\n",
       "  </tbody>\n",
       "</table>\n",
       "<p>2017 rows × 27 columns</p>\n",
       "</div>"
      ],
      "text/plain": [
       "      city_development_index  relevent_experience  enrolled_university  \\\n",
       "0                      0.827                    1                    2   \n",
       "1                      0.920                    1                    0   \n",
       "2                      0.624                    0                    0   \n",
       "3                      0.827                    1                    0   \n",
       "4                      0.920                    1                    0   \n",
       "...                      ...                  ...                  ...   \n",
       "2124                   0.920                    0                    0   \n",
       "2125                   0.897                    1                    0   \n",
       "2126                   0.887                    0                    0   \n",
       "2127                   0.804                    1                    2   \n",
       "2128                   0.804                    1                    0   \n",
       "\n",
       "      education_level  experience  company_size  last_new_job  training_hours  \\\n",
       "0                   2        21.0             1           1.0              21   \n",
       "1                   2        15.0             0           5.0              98   \n",
       "2                   1         5.0             0           0.0              15   \n",
       "3                   3         NaN             2           NaN              39   \n",
       "4                   2        21.0             8           4.0              72   \n",
       "...               ...         ...           ...           ...             ...   \n",
       "2124                2         3.0             0           0.0              15   \n",
       "2125                3         8.0             0           1.0              30   \n",
       "2126                0         0.0             0           1.0              18   \n",
       "2127                1        11.0             4           1.0              84   \n",
       "2128                3        15.0             8           3.0              11   \n",
       "\n",
       "      Female  Male  ...  Major_STEM  Company_type_Early Stage Startup  \\\n",
       "0          0     1  ...           1                                 0   \n",
       "1          1     0  ...           1                                 0   \n",
       "2          0     1  ...           0                                 0   \n",
       "3          0     1  ...           1                                 0   \n",
       "4          0     1  ...           1                                 0   \n",
       "...      ...   ...  ...         ...                               ...   \n",
       "2124       0     1  ...           0                                 0   \n",
       "2125       0     1  ...           1                                 0   \n",
       "2126       0     1  ...           0                                 0   \n",
       "2127       0     1  ...           0                                 0   \n",
       "2128       0     1  ...           1                                 0   \n",
       "\n",
       "      Company_type_Funded Startup  Company_type_Missing  Company_type_NGO  \\\n",
       "0                               0                     1                 0   \n",
       "1                               0                     0                 0   \n",
       "2                               0                     0                 0   \n",
       "3                               0                     0                 0   \n",
       "4                               0                     0                 0   \n",
       "...                           ...                   ...               ...   \n",
       "2124                            0                     0                 0   \n",
       "2125                            0                     1                 0   \n",
       "2126                            0                     0                 0   \n",
       "2127                            0                     0                 0   \n",
       "2128                            0                     0                 0   \n",
       "\n",
       "      Company_type_No company  Company_type_Other  Company_type_Public Sector  \\\n",
       "0                           0                   0                           0   \n",
       "1                           0                   0                           0   \n",
       "2                           0                   0                           0   \n",
       "3                           0                   0                           0   \n",
       "4                           0                   0                           0   \n",
       "...                       ...                 ...                         ...   \n",
       "2124                        0                   0                           1   \n",
       "2125                        0                   0                           0   \n",
       "2126                        0                   0                           0   \n",
       "2127                        0                   0                           1   \n",
       "2128                        0                   0                           0   \n",
       "\n",
       "      Company_type_Pvt Ltd  target  \n",
       "0                        0       0  \n",
       "1                        1       1  \n",
       "2                        1       1  \n",
       "3                        1       0  \n",
       "4                        1       0  \n",
       "...                    ...     ...  \n",
       "2124                     0       1  \n",
       "2125                     0       0  \n",
       "2126                     1       0  \n",
       "2127                     0       0  \n",
       "2128                     1       0  \n",
       "\n",
       "[2017 rows x 27 columns]"
      ]
     },
     "execution_count": 69,
     "metadata": {},
     "output_type": "execute_result"
    }
   ],
   "source": [
    "#test dataframe now contains the target columns\n",
    "test_df"
   ]
  },
  {
   "cell_type": "code",
   "execution_count": 70,
   "id": "ed50863d",
   "metadata": {},
   "outputs": [
    {
     "data": {
      "text/plain": [
       "<AxesSubplot:xlabel='target', ylabel='count'>"
      ]
     },
     "execution_count": 70,
     "metadata": {},
     "output_type": "execute_result"
    },
    {
     "data": {
      "image/png": "[encoded data removed]",
      "text/plain": [
       "<Figure size 432x288 with 1 Axes>"
      ]
     },
     "metadata": {
      "needs_background": "light"
     },
     "output_type": "display_data"
    }
   ],
   "source": [
    "sns.countplot(x = 'target', data = test_df)"
   ]
  },
  {
   "cell_type": "markdown",
   "id": "71014141",
   "metadata": {},
   "source": [
    "The predicted dataset is also imbalanced. Great! This shows that our model will also working in real life. We can trust the accuracy will be approximately the same produced by our validation set"
   ]
  },
  {
   "cell_type": "code",
   "execution_count": null,
   "id": "0570c988",
   "metadata": {},
   "outputs": [],
   "source": []
  }
 ],
 "metadata": {
  "kernelspec": {
   "display_name": "Python 3 (ipykernel)",
   "language": "python",
   "name": "python3"
  },
  "language_info": {
   "codemirror_mode": {
    "name": "ipython",
    "version": 3
   },
   "file_extension": ".py",
   "mimetype": "text/x-python",
   "name": "python",
   "nbconvert_exporter": "python",
   "pygments_lexer": "ipython3",
   "version": "3.8.12"
  }
 },
 "nbformat": 4,
 "nbformat_minor": 5
}
